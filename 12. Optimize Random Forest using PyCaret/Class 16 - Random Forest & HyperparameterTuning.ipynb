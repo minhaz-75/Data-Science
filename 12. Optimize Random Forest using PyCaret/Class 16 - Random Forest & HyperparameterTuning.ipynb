{
 "cells": [
  {
   "cell_type": "code",
   "execution_count": null,
   "id": "7b39bb20",
   "metadata": {},
   "outputs": [],
   "source": [
    "import pandas as pd\n",
    "from sklearn.model_selection import train_test_split, GridSearchCV, RandomizedSearchCV\n",
    "from sklearn.tree import DecisionTreeClassifier\n",
    "from sklearn.ensemble import RandomForestClassifier\n",
    "from sklearn.metrics import accuracy_score, classification_report\n",
    "import seaborn as sns\n",
    "import matplotlib.pyplot as plt\n",
    "\n",
    "import warnings \n",
    "warnings.filterwarnings('ignore')"
   ]
  },
  {
   "cell_type": "code",
   "execution_count": null,
   "id": "6700bad4",
   "metadata": {},
   "outputs": [],
   "source": [
    "df = pd.read_csv('uci breast cancer dataset.csv')"
   ]
  },
  {
   "cell_type": "code",
   "execution_count": null,
   "id": "225335cd",
   "metadata": {},
   "outputs": [],
   "source": [
    "df.head()"
   ]
  },
  {
   "cell_type": "code",
   "execution_count": null,
   "id": "12894ce6",
   "metadata": {},
   "outputs": [],
   "source": [
    "df.info()"
   ]
  },
  {
   "cell_type": "code",
   "execution_count": null,
   "id": "1cf57605",
   "metadata": {},
   "outputs": [],
   "source": [
    "df = df.drop(['id','Unnamed: 32'], axis = 'columns')"
   ]
  },
  {
   "cell_type": "code",
   "execution_count": null,
   "id": "6d027a92",
   "metadata": {},
   "outputs": [],
   "source": [
    "df"
   ]
  },
  {
   "cell_type": "code",
   "execution_count": null,
   "id": "429ce428",
   "metadata": {},
   "outputs": [],
   "source": [
    "sns.countplot(x='diagnosis',data=df)"
   ]
  },
  {
   "cell_type": "code",
   "execution_count": null,
   "id": "8ffbc3e3",
   "metadata": {},
   "outputs": [],
   "source": [
    "df.diagnosis.value_counts()"
   ]
  },
  {
   "cell_type": "code",
   "execution_count": null,
   "id": "e728edef",
   "metadata": {},
   "outputs": [],
   "source": [
    "# Create the countplot\n",
    "plt.figure(figsize=(8, 6))\n",
    "ax = sns.countplot(x='diagnosis', data=df, palette='Set2')\n",
    "\n",
    "# Annotate the bars with their respective counts\n",
    "for p in ax.patches:\n",
    "    height = p.get_height()\n",
    "    ax.annotate(f'{height}', (p.get_x() + p.get_width() / 2, height), ha='center', va='bottom', fontsize=12)\n",
    "\n",
    "# Optionally, you can set the y-axis label\n",
    "plt.ylabel('Count')\n",
    "\n",
    "# Show the plot\n",
    "plt.show()\n"
   ]
  },
  {
   "cell_type": "code",
   "execution_count": null,
   "id": "047531b6",
   "metadata": {},
   "outputs": [],
   "source": [
    "x = df.drop('diagnosis',axis=1)"
   ]
  },
  {
   "cell_type": "code",
   "execution_count": null,
   "id": "22cc8d64",
   "metadata": {},
   "outputs": [],
   "source": [
    "y = df[['diagnosis']]"
   ]
  },
  {
   "cell_type": "markdown",
   "id": "e6ccb92e",
   "metadata": {},
   "source": [
    "# Train Test Split"
   ]
  },
  {
   "cell_type": "code",
   "execution_count": null,
   "id": "bed4801b",
   "metadata": {},
   "outputs": [],
   "source": [
    "from sklearn.model_selection import train_test_split\n",
    "xtrain, xtest, ytrain, ytest = train_test_split(x,y, random_state=42, test_size=.30)"
   ]
  },
  {
   "cell_type": "code",
   "execution_count": null,
   "id": "8f9e4006",
   "metadata": {},
   "outputs": [],
   "source": [
    "ytest"
   ]
  },
  {
   "cell_type": "code",
   "execution_count": null,
   "id": "5e7ecc58",
   "metadata": {},
   "outputs": [],
   "source": [
    "ytest.shape"
   ]
  },
  {
   "cell_type": "code",
   "execution_count": null,
   "id": "3ae5f71a",
   "metadata": {},
   "outputs": [],
   "source": [
    "xtest.shape"
   ]
  },
  {
   "cell_type": "markdown",
   "id": "f77c1153",
   "metadata": {},
   "source": [
    "# Step 3: Decision Tree model and evaluation"
   ]
  },
  {
   "cell_type": "code",
   "execution_count": null,
   "id": "9a40377e",
   "metadata": {},
   "outputs": [],
   "source": [
    "dt_model = DecisionTreeClassifier(random_state=42)\n",
    "dt_model.fit(xtrain, ytrain)\n",
    "y_pred_dt = dt_model.predict(xtest)"
   ]
  },
  {
   "cell_type": "code",
   "execution_count": null,
   "id": "73ea27d1",
   "metadata": {},
   "outputs": [],
   "source": [
    "y_pred_dt"
   ]
  },
  {
   "cell_type": "markdown",
   "id": "132f51fb",
   "metadata": {},
   "source": [
    "# Evaluate Decision Tree model performance"
   ]
  },
  {
   "cell_type": "code",
   "execution_count": null,
   "id": "e66bfd9f",
   "metadata": {},
   "outputs": [],
   "source": [
    "print(\"Decision Tree Model Performance:\")\n",
    "print(\"Accuracy:\", accuracy_score(ytest, y_pred_dt), '\\n')\n",
    "print(\"Classification Report:\")\n",
    "print(classification_report(ytest, y_pred_dt))"
   ]
  },
  {
   "cell_type": "markdown",
   "id": "c95a47dd",
   "metadata": {},
   "source": [
    "# Step 4: Random Forest model and evaluation"
   ]
  },
  {
   "cell_type": "code",
   "execution_count": null,
   "id": "79881ec8",
   "metadata": {},
   "outputs": [],
   "source": [
    "rf_model = RandomForestClassifier(random_state=42)\n",
    "rf_model.fit(xtrain, ytrain)\n",
    "y_pred_rf = rf_model.predict(xtest)"
   ]
  },
  {
   "cell_type": "code",
   "execution_count": null,
   "id": "7121a731",
   "metadata": {},
   "outputs": [],
   "source": [
    "y_pred_rf"
   ]
  },
  {
   "cell_type": "markdown",
   "id": "76a4a6d4",
   "metadata": {},
   "source": [
    "# Evaluate Random Forest model performance"
   ]
  },
  {
   "cell_type": "code",
   "execution_count": null,
   "id": "3a7e863d",
   "metadata": {},
   "outputs": [],
   "source": [
    "print(\"\\nRandom Forest Model Performance:\") \n",
    "print(\"Accuracy:\", accuracy_score(ytest, y_pred_rf), '\\n') \n",
    "print(\"Classification Report:\") \n",
    "print(classification_report(ytest, y_pred_rf)) "
   ]
  },
  {
   "cell_type": "markdown",
   "id": "bdccf755",
   "metadata": {},
   "source": [
    "# Pre - Pruning for Cost Complexity"
   ]
  },
  {
   "cell_type": "markdown",
   "id": "86855322",
   "metadata": {},
   "source": [
    "# Initialized Hyperparameters"
   ]
  },
  {
   "cell_type": "code",
   "execution_count": null,
   "id": "3ca4674a",
   "metadata": {},
   "outputs": [],
   "source": [
    "# Define hyperparameters for Decision Tree \n",
    "dt_params = {\n",
    "    'criterion': ['gini', 'entropy'],\n",
    "    'splitter': ['best', 'random'],\n",
    "    'max_depth': [None, 10, 20, 30],\n",
    "    'min_samples_split': [2, 5, 10],\n",
    "    'min_samples_leaf': [1, 2, 4]\n",
    "}\n",
    "\n",
    "\n",
    "#Define hyperparameters for Random Forest\n",
    "rf_params = {\n",
    "    'n_estimators': [100, 200, 300], #https://numpy.org/doc/stable/reference/random/generated/numpy.random.randint.html\n",
    "    'criterion': ['gini', 'entropy'],\n",
    "    'max_depth': [None, 10, 20, 30],\n",
    "    'min_samples_split': [2, 5, 10],\n",
    "    'min_samples_leaf': [1, 2, 4],\n",
    "    'max_features': ['auto', 'sqrt', 'log2']\n",
    "}\n"
   ]
  },
  {
   "cell_type": "code",
   "execution_count": null,
   "id": "e9db650d",
   "metadata": {},
   "outputs": [],
   "source": [
    "# Perform Grid Search for Decision Tree\n",
    "dt_grid_search = GridSearchCV(estimator=DecisionTreeClassifier(random_state=42),\n",
    "                              param_grid=dt_params, cv=5)\n",
    "dt_grid_search.fit(xtrain, ytrain)"
   ]
  },
  {
   "cell_type": "code",
   "execution_count": null,
   "id": "86e05065",
   "metadata": {},
   "outputs": [],
   "source": [
    "dt_grid_search.cv_results_"
   ]
  },
  {
   "cell_type": "code",
   "execution_count": null,
   "id": "0d36cacf",
   "metadata": {},
   "outputs": [],
   "source": [
    "tuning_result_dt_gs = pd.DataFrame(dt_grid_search.cv_results_)\n",
    "tuning_result_dt_gs"
   ]
  },
  {
   "cell_type": "code",
   "execution_count": null,
   "id": "b126856c",
   "metadata": {},
   "outputs": [],
   "source": [
    "dt_grid_search.best_params_ #clf = dt_grid_search.best_params_"
   ]
  },
  {
   "cell_type": "markdown",
   "id": "a8c21bb2",
   "metadata": {},
   "source": [
    "# Perform Grid Search for Random Forest\n",
    "rf_grid_search = GridSearchCV(estimator=RandomForestClassifier(random_state=42),\n",
    "                              param_grid=rf_params, cv=5)\n",
    "rf_grid_search.fit(xtrain, ytrain)"
   ]
  },
  {
   "cell_type": "markdown",
   "id": "1914352e",
   "metadata": {},
   "source": [
    "# Evaluate the optimized models"
   ]
  },
  {
   "cell_type": "code",
   "execution_count": null,
   "id": "f34b4b51",
   "metadata": {},
   "outputs": [],
   "source": [
    "# Decision Tree and Grid Search\n",
    "y_pred_dt_gs = dt_grid_search.predict(xtest)\n",
    "print(\"\\nDecision Tree Grid Search Performance:\")\n",
    "print(\"Accuracy:\", accuracy_score(ytest, y_pred_dt_gs))\n",
    "print(\"Classification Report:\")\n",
    "print(classification_report(ytest, y_pred_dt_gs))\n"
   ]
  },
  {
   "cell_type": "markdown",
   "id": "e7a8d8fa",
   "metadata": {},
   "source": [
    "# Random Forest Grid Search\n",
    "y_pred_rf_gs = rf_grid_search.predict(xtest)\n",
    "print(\"\\nRandom Forest Grid Search Performance:\")\n",
    "print(\"Accuracy:\", accuracy_score(ytest, y_pred_rf_gs))\n",
    "print(\"Classification Report:\")\n",
    "print(classification_report(ytest, y_pred_rf_gs))\n"
   ]
  },
  {
   "cell_type": "markdown",
   "id": "0b6ecd0d",
   "metadata": {},
   "source": [
    "# Hyperparameter optimization using Randomized Search"
   ]
  },
  {
   "cell_type": "code",
   "execution_count": null,
   "id": "4bd9f1b5",
   "metadata": {},
   "outputs": [],
   "source": [
    "# Perform Randomized Search for Decision Tree\n",
    "dt_random_search = RandomizedSearchCV(estimator=DecisionTreeClassifier(random_state=42),\n",
    "                                      param_distributions=dt_params, n_iter=100, cv=5, random_state=42)\n",
    "dt_random_search.fit(xtrain, ytrain)\n"
   ]
  },
  {
   "cell_type": "code",
   "execution_count": null,
   "id": "5ca522f8",
   "metadata": {},
   "outputs": [],
   "source": [
    "dt_random_search.cv_results_"
   ]
  },
  {
   "cell_type": "code",
   "execution_count": null,
   "id": "7f5d6463",
   "metadata": {},
   "outputs": [],
   "source": [
    "tuning_result_dt_rs = pd.DataFrame(dt_random_search.cv_results_)\n",
    "tuning_result_dt_rs"
   ]
  },
  {
   "cell_type": "code",
   "execution_count": null,
   "id": "5870adf4",
   "metadata": {},
   "outputs": [],
   "source": [
    "dt_random_search.best_params_"
   ]
  },
  {
   "cell_type": "markdown",
   "id": "322fb989",
   "metadata": {},
   "source": [
    "# Perform Randomized Search for Random Forest"
   ]
  },
  {
   "cell_type": "code",
   "execution_count": null,
   "id": "fd5bbe96",
   "metadata": {},
   "outputs": [],
   "source": [
    "rf_random_search = RandomizedSearchCV(estimator=RandomForestClassifier(random_state=42),\n",
    "                                      param_distributions=rf_params, n_iter=100, cv=5, random_state=42)\n",
    "rf_random_search.fit(xtrain, ytrain)"
   ]
  },
  {
   "cell_type": "code",
   "execution_count": null,
   "id": "e3dd0475",
   "metadata": {
    "scrolled": true
   },
   "outputs": [],
   "source": [
    "rf_random_search.cv_results_\n",
    "tuning_result_rf_rs = pd.DataFrame(rf_random_search.cv_results_)\n",
    "tuning_result_rf_rs"
   ]
  },
  {
   "cell_type": "code",
   "execution_count": null,
   "id": "0b75aa76",
   "metadata": {},
   "outputs": [],
   "source": [
    "rf_random_search.best_params_"
   ]
  },
  {
   "cell_type": "markdown",
   "id": "2dd79115",
   "metadata": {},
   "source": [
    "# Evaluate the optimized models for Randomized Search"
   ]
  },
  {
   "cell_type": "markdown",
   "id": "c9a47346",
   "metadata": {},
   "source": [
    "# Decision Tree Randomized Search"
   ]
  },
  {
   "cell_type": "code",
   "execution_count": null,
   "id": "91469ffd",
   "metadata": {},
   "outputs": [],
   "source": [
    "y_pred_dt_rs = dt_random_search.predict(xtest)\n",
    "print(\"\\n Decision Tree Randomized Search Performance:\")\n",
    "print(\"Accuracy:\", accuracy_score(ytest, y_pred_dt_rs))\n",
    "print(\"Classification Report:\")\n",
    "print(classification_report(ytest, y_pred_dt_rs))"
   ]
  },
  {
   "cell_type": "markdown",
   "id": "03716f55",
   "metadata": {},
   "source": [
    "# Random Forest Randomized Search"
   ]
  },
  {
   "cell_type": "code",
   "execution_count": null,
   "id": "b9366d05",
   "metadata": {},
   "outputs": [],
   "source": [
    "y_pred_rf_rs = rf_random_search.predict(xtest)\n",
    "print(\"\\n Random Forest Randomized Search Performance:\")\n",
    "print(\"Accuracy:\", accuracy_score(ytest, y_pred_rf_rs))\n",
    "print(\"Classification Report:\")\n",
    "print(classification_report(ytest, y_pred_rf_rs))"
   ]
  },
  {
   "cell_type": "markdown",
   "id": "2da8c8a0",
   "metadata": {},
   "source": [
    "# Post Pruning for Decision Tree"
   ]
  },
  {
   "cell_type": "code",
   "execution_count": null,
   "id": "5f54b398",
   "metadata": {},
   "outputs": [],
   "source": [
    "dt_clf = dt_random_search.best_estimator_\n",
    "dt_clf"
   ]
  },
  {
   "cell_type": "code",
   "execution_count": null,
   "id": "18827f17",
   "metadata": {},
   "outputs": [],
   "source": [
    "from sklearn import tree\n",
    "plt.figure(figsize=(15,10))\n",
    "tree.plot_tree(dt_clf, filled=True, feature_names = x.columns)"
   ]
  },
  {
   "cell_type": "code",
   "execution_count": null,
   "id": "6d9a8855",
   "metadata": {},
   "outputs": [],
   "source": [
    "#https://scikit-learn.org/stable/auto_examples/tree/plot_cost_complexity_pruning.html\n",
    "pruning_path = dt_clf.cost_complexity_pruning_path(xtrain, ytrain) # clf = DecisionTreeClassifier  \n",
    "ccp_alpha_values = pruning_path.ccp_alphas "
   ]
  },
  {
   "cell_type": "code",
   "execution_count": null,
   "id": "271fd245",
   "metadata": {},
   "outputs": [],
   "source": [
    "ccp_alpha_values "
   ]
  },
  {
   "cell_type": "code",
   "execution_count": null,
   "id": "d4619b8e",
   "metadata": {},
   "outputs": [],
   "source": [
    "clfs_list = []  # save diffrent classifiers\n",
    "\n",
    "for c in ccp_alpha_values:\n",
    "    clf = DecisionTreeClassifier(random_state=42, ccp_alpha=c)\n",
    "    clf.fit(xtrain, ytrain)\n",
    "    clfs_list.append(clf)"
   ]
  },
  {
   "cell_type": "code",
   "execution_count": null,
   "id": "b3209bdf",
   "metadata": {},
   "outputs": [],
   "source": [
    "clfs_list "
   ]
  },
  {
   "cell_type": "code",
   "execution_count": null,
   "id": "7ed03c7a",
   "metadata": {},
   "outputs": [],
   "source": [
    "train_scores = [ clf.score(xtrain, ytrain) for clf in clfs_list ] \n",
    "test_scores = [ clf.score(xtest, ytest) for clf in clfs_list ] "
   ]
  },
  {
   "cell_type": "code",
   "execution_count": null,
   "id": "677abc36",
   "metadata": {},
   "outputs": [],
   "source": [
    "train_scores"
   ]
  },
  {
   "cell_type": "code",
   "execution_count": null,
   "id": "4b5c2a06",
   "metadata": {},
   "outputs": [],
   "source": [
    "test_scores"
   ]
  },
  {
   "cell_type": "code",
   "execution_count": null,
   "id": "f7fd1948",
   "metadata": {},
   "outputs": [],
   "source": [
    "import matplotlib.pyplot as plt"
   ]
  },
  {
   "cell_type": "code",
   "execution_count": null,
   "id": "50a08088",
   "metadata": {},
   "outputs": [],
   "source": [
    "fig, ax = plt.subplots()\n",
    "ax.set_xlabel(\"Alpha\")\n",
    "ax.set_ylabel(\"Accuracy\")\n",
    "\n",
    "ax.plot(ccp_alpha_values, train_scores, marker='o', label=\"training accuracy\", drawstyle=\"steps-post\")\n",
    "ax.plot(ccp_alpha_values, test_scores, marker='o', label=\"testing accuracy\", drawstyle=\"steps-post\")\n",
    "ax.legend()"
   ]
  },
  {
   "cell_type": "code",
   "execution_count": null,
   "id": "3785723d",
   "metadata": {},
   "outputs": [],
   "source": [
    "clf = DecisionTreeClassifier(random_state=42, ccp_alpha=0.01)\n",
    "clf.fit(xtrain, ytrain)"
   ]
  },
  {
   "cell_type": "code",
   "execution_count": null,
   "id": "c1883e46",
   "metadata": {},
   "outputs": [],
   "source": [
    "pred=clf.predict(xtest)\n",
    "accuracy_score(ytest, pred)"
   ]
  },
  {
   "cell_type": "code",
   "execution_count": null,
   "id": "e9f2bc5b",
   "metadata": {},
   "outputs": [],
   "source": [
    "plt.figure(figsize=(15,10))\n",
    "tree.plot_tree(clf, filled=True, feature_names = x.columns)"
   ]
  },
  {
   "cell_type": "markdown",
   "id": "f9991a16",
   "metadata": {},
   "source": [
    "# XGBoost"
   ]
  },
  {
   "cell_type": "code",
   "execution_count": null,
   "id": "780a295d",
   "metadata": {},
   "outputs": [],
   "source": [
    "#random & grid\n",
    "#before performance & after performance"
   ]
  },
  {
   "cell_type": "code",
   "execution_count": null,
   "id": "6034df5b",
   "metadata": {},
   "outputs": [],
   "source": []
  },
  {
   "cell_type": "code",
   "execution_count": null,
   "id": "56d7b50a",
   "metadata": {},
   "outputs": [],
   "source": []
  },
  {
   "cell_type": "markdown",
   "id": "0ab2fed7",
   "metadata": {},
   "source": [
    "# ADA Boost"
   ]
  },
  {
   "cell_type": "code",
   "execution_count": null,
   "id": "4f9443f4",
   "metadata": {},
   "outputs": [],
   "source": [
    "#random & grid\n",
    "#before performance & after performance"
   ]
  },
  {
   "cell_type": "code",
   "execution_count": null,
   "id": "c01c4d75",
   "metadata": {},
   "outputs": [],
   "source": []
  },
  {
   "cell_type": "code",
   "execution_count": null,
   "id": "f9a61d1c",
   "metadata": {},
   "outputs": [],
   "source": []
  }
 ],
 "metadata": {
  "kernelspec": {
   "display_name": "Python 3 (ipykernel)",
   "language": "python",
   "name": "python3"
  },
  "language_info": {
   "codemirror_mode": {
    "name": "ipython",
    "version": 3
   },
   "file_extension": ".py",
   "mimetype": "text/x-python",
   "name": "python",
   "nbconvert_exporter": "python",
   "pygments_lexer": "ipython3",
   "version": "3.9.13"
  }
 },
 "nbformat": 4,
 "nbformat_minor": 5
}
