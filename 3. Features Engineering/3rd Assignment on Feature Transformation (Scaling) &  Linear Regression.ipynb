{
 "cells": [
  {
   "cell_type": "markdown",
   "id": "3d3610b3",
   "metadata": {},
   "source": [
    "# Part 1: Data Preprocessing\n"
   ]
  },
  {
   "cell_type": "markdown",
   "id": "a728b040",
   "metadata": {},
   "source": [
    "'''1. Load the Excel dataset into a pandas DataFrame. Handle any missing values and perform data\n",
    "exploration to understand the characteristics of the dataset.'''"
   ]
  },
  {
   "cell_type": "code",
   "execution_count": 1,
   "id": "dc814edd",
   "metadata": {},
   "outputs": [],
   "source": [
    "import pandas as pd\n",
    "import matplotlib.pyplot as plt\n",
    "import seaborn as sns"
   ]
  },
  {
   "cell_type": "code",
   "execution_count": 2,
   "id": "155341c0",
   "metadata": {},
   "outputs": [
    {
     "data": {
      "text/html": [
       "<div>\n",
       "<style scoped>\n",
       "    .dataframe tbody tr th:only-of-type {\n",
       "        vertical-align: middle;\n",
       "    }\n",
       "\n",
       "    .dataframe tbody tr th {\n",
       "        vertical-align: top;\n",
       "    }\n",
       "\n",
       "    .dataframe thead th {\n",
       "        text-align: right;\n",
       "    }\n",
       "</style>\n",
       "<table border=\"1\" class=\"dataframe\">\n",
       "  <thead>\n",
       "    <tr style=\"text-align: right;\">\n",
       "      <th></th>\n",
       "      <th>No</th>\n",
       "      <th>X1 transaction date</th>\n",
       "      <th>X2 house age</th>\n",
       "      <th>X3 distance to the nearest MRT station</th>\n",
       "      <th>X4 number of convenience stores</th>\n",
       "      <th>X5 latitude</th>\n",
       "      <th>X6 longitude</th>\n",
       "      <th>Y house price of unit area</th>\n",
       "    </tr>\n",
       "  </thead>\n",
       "  <tbody>\n",
       "    <tr>\n",
       "      <th>0</th>\n",
       "      <td>1</td>\n",
       "      <td>2012.917</td>\n",
       "      <td>32.0</td>\n",
       "      <td>84.87882</td>\n",
       "      <td>10</td>\n",
       "      <td>24.98298</td>\n",
       "      <td>121.54024</td>\n",
       "      <td>37.9</td>\n",
       "    </tr>\n",
       "    <tr>\n",
       "      <th>1</th>\n",
       "      <td>2</td>\n",
       "      <td>2012.917</td>\n",
       "      <td>19.5</td>\n",
       "      <td>306.59470</td>\n",
       "      <td>9</td>\n",
       "      <td>24.98034</td>\n",
       "      <td>121.53951</td>\n",
       "      <td>42.2</td>\n",
       "    </tr>\n",
       "    <tr>\n",
       "      <th>2</th>\n",
       "      <td>3</td>\n",
       "      <td>2013.583</td>\n",
       "      <td>13.3</td>\n",
       "      <td>561.98450</td>\n",
       "      <td>5</td>\n",
       "      <td>24.98746</td>\n",
       "      <td>121.54391</td>\n",
       "      <td>47.3</td>\n",
       "    </tr>\n",
       "    <tr>\n",
       "      <th>3</th>\n",
       "      <td>4</td>\n",
       "      <td>2013.500</td>\n",
       "      <td>13.3</td>\n",
       "      <td>561.98450</td>\n",
       "      <td>5</td>\n",
       "      <td>24.98746</td>\n",
       "      <td>121.54391</td>\n",
       "      <td>54.8</td>\n",
       "    </tr>\n",
       "    <tr>\n",
       "      <th>4</th>\n",
       "      <td>5</td>\n",
       "      <td>2012.833</td>\n",
       "      <td>5.0</td>\n",
       "      <td>390.56840</td>\n",
       "      <td>5</td>\n",
       "      <td>24.97937</td>\n",
       "      <td>121.54245</td>\n",
       "      <td>43.1</td>\n",
       "    </tr>\n",
       "  </tbody>\n",
       "</table>\n",
       "</div>"
      ],
      "text/plain": [
       "   No  X1 transaction date  X2 house age  \\\n",
       "0   1             2012.917          32.0   \n",
       "1   2             2012.917          19.5   \n",
       "2   3             2013.583          13.3   \n",
       "3   4             2013.500          13.3   \n",
       "4   5             2012.833           5.0   \n",
       "\n",
       "   X3 distance to the nearest MRT station  X4 number of convenience stores  \\\n",
       "0                                84.87882                               10   \n",
       "1                               306.59470                                9   \n",
       "2                               561.98450                                5   \n",
       "3                               561.98450                                5   \n",
       "4                               390.56840                                5   \n",
       "\n",
       "   X5 latitude  X6 longitude  Y house price of unit area  \n",
       "0     24.98298     121.54024                        37.9  \n",
       "1     24.98034     121.53951                        42.2  \n",
       "2     24.98746     121.54391                        47.3  \n",
       "3     24.98746     121.54391                        54.8  \n",
       "4     24.97937     121.54245                        43.1  "
      ]
     },
     "execution_count": 2,
     "metadata": {},
     "output_type": "execute_result"
    }
   ],
   "source": [
    "df = pd.read_csv(\"Real estate.csv\")\n",
    "df.head()"
   ]
  },
  {
   "cell_type": "code",
   "execution_count": 3,
   "id": "9387f821",
   "metadata": {},
   "outputs": [
    {
     "data": {
      "text/plain": [
       "(414, 8)"
      ]
     },
     "execution_count": 3,
     "metadata": {},
     "output_type": "execute_result"
    }
   ],
   "source": [
    "df.shape"
   ]
  },
  {
   "cell_type": "code",
   "execution_count": 4,
   "id": "c7a0b42a",
   "metadata": {},
   "outputs": [
    {
     "data": {
      "text/plain": [
       "No                                        0\n",
       "X1 transaction date                       0\n",
       "X2 house age                              0\n",
       "X3 distance to the nearest MRT station    0\n",
       "X4 number of convenience stores           0\n",
       "X5 latitude                               0\n",
       "X6 longitude                              0\n",
       "Y house price of unit area                0\n",
       "dtype: int64"
      ]
     },
     "execution_count": 4,
     "metadata": {},
     "output_type": "execute_result"
    }
   ],
   "source": [
    "df.isnull().sum()\n"
   ]
  },
  {
   "cell_type": "code",
   "execution_count": 5,
   "id": "7c0359ac",
   "metadata": {},
   "outputs": [
    {
     "data": {
      "text/html": [
       "<div>\n",
       "<style scoped>\n",
       "    .dataframe tbody tr th:only-of-type {\n",
       "        vertical-align: middle;\n",
       "    }\n",
       "\n",
       "    .dataframe tbody tr th {\n",
       "        vertical-align: top;\n",
       "    }\n",
       "\n",
       "    .dataframe thead th {\n",
       "        text-align: right;\n",
       "    }\n",
       "</style>\n",
       "<table border=\"1\" class=\"dataframe\">\n",
       "  <thead>\n",
       "    <tr style=\"text-align: right;\">\n",
       "      <th></th>\n",
       "      <th>No</th>\n",
       "      <th>x1</th>\n",
       "      <th>x2</th>\n",
       "      <th>x3</th>\n",
       "      <th>x4</th>\n",
       "      <th>x5</th>\n",
       "      <th>x6</th>\n",
       "      <th>y</th>\n",
       "    </tr>\n",
       "  </thead>\n",
       "  <tbody>\n",
       "    <tr>\n",
       "      <th>0</th>\n",
       "      <td>1</td>\n",
       "      <td>2012.917</td>\n",
       "      <td>32.0</td>\n",
       "      <td>84.87882</td>\n",
       "      <td>10</td>\n",
       "      <td>24.98298</td>\n",
       "      <td>121.54024</td>\n",
       "      <td>37.9</td>\n",
       "    </tr>\n",
       "    <tr>\n",
       "      <th>1</th>\n",
       "      <td>2</td>\n",
       "      <td>2012.917</td>\n",
       "      <td>19.5</td>\n",
       "      <td>306.59470</td>\n",
       "      <td>9</td>\n",
       "      <td>24.98034</td>\n",
       "      <td>121.53951</td>\n",
       "      <td>42.2</td>\n",
       "    </tr>\n",
       "    <tr>\n",
       "      <th>2</th>\n",
       "      <td>3</td>\n",
       "      <td>2013.583</td>\n",
       "      <td>13.3</td>\n",
       "      <td>561.98450</td>\n",
       "      <td>5</td>\n",
       "      <td>24.98746</td>\n",
       "      <td>121.54391</td>\n",
       "      <td>47.3</td>\n",
       "    </tr>\n",
       "    <tr>\n",
       "      <th>3</th>\n",
       "      <td>4</td>\n",
       "      <td>2013.500</td>\n",
       "      <td>13.3</td>\n",
       "      <td>561.98450</td>\n",
       "      <td>5</td>\n",
       "      <td>24.98746</td>\n",
       "      <td>121.54391</td>\n",
       "      <td>54.8</td>\n",
       "    </tr>\n",
       "    <tr>\n",
       "      <th>4</th>\n",
       "      <td>5</td>\n",
       "      <td>2012.833</td>\n",
       "      <td>5.0</td>\n",
       "      <td>390.56840</td>\n",
       "      <td>5</td>\n",
       "      <td>24.97937</td>\n",
       "      <td>121.54245</td>\n",
       "      <td>43.1</td>\n",
       "    </tr>\n",
       "  </tbody>\n",
       "</table>\n",
       "</div>"
      ],
      "text/plain": [
       "   No        x1    x2         x3  x4        x5         x6     y\n",
       "0   1  2012.917  32.0   84.87882  10  24.98298  121.54024  37.9\n",
       "1   2  2012.917  19.5  306.59470   9  24.98034  121.53951  42.2\n",
       "2   3  2013.583  13.3  561.98450   5  24.98746  121.54391  47.3\n",
       "3   4  2013.500  13.3  561.98450   5  24.98746  121.54391  54.8\n",
       "4   5  2012.833   5.0  390.56840   5  24.97937  121.54245  43.1"
      ]
     },
     "execution_count": 5,
     "metadata": {},
     "output_type": "execute_result"
    }
   ],
   "source": [
    "df = df.rename(columns= {'X1 transaction date':'x1','X2 house age':'x2','X3 distance to the nearest MRT station':'x3','X4 number of convenience stores':'x4','X5 latitude':'x5','X6 longitude':'x6','Y house price of unit area':'y'})\n",
    "df.head()"
   ]
  },
  {
   "cell_type": "code",
   "execution_count": 6,
   "id": "bf64cb4c",
   "metadata": {},
   "outputs": [
    {
     "data": {
      "text/html": [
       "<div>\n",
       "<style scoped>\n",
       "    .dataframe tbody tr th:only-of-type {\n",
       "        vertical-align: middle;\n",
       "    }\n",
       "\n",
       "    .dataframe tbody tr th {\n",
       "        vertical-align: top;\n",
       "    }\n",
       "\n",
       "    .dataframe thead th {\n",
       "        text-align: right;\n",
       "    }\n",
       "</style>\n",
       "<table border=\"1\" class=\"dataframe\">\n",
       "  <thead>\n",
       "    <tr style=\"text-align: right;\">\n",
       "      <th></th>\n",
       "      <th>No</th>\n",
       "      <th>x1</th>\n",
       "      <th>x2</th>\n",
       "      <th>x3</th>\n",
       "      <th>x4</th>\n",
       "      <th>x5</th>\n",
       "      <th>x6</th>\n",
       "      <th>y</th>\n",
       "    </tr>\n",
       "  </thead>\n",
       "  <tbody>\n",
       "    <tr>\n",
       "      <th>0</th>\n",
       "      <td>1</td>\n",
       "      <td>2012.917</td>\n",
       "      <td>32.0</td>\n",
       "      <td>84.87882</td>\n",
       "      <td>10</td>\n",
       "      <td>24.98298</td>\n",
       "      <td>121.54024</td>\n",
       "      <td>37.9</td>\n",
       "    </tr>\n",
       "    <tr>\n",
       "      <th>1</th>\n",
       "      <td>2</td>\n",
       "      <td>2012.917</td>\n",
       "      <td>19.5</td>\n",
       "      <td>306.59470</td>\n",
       "      <td>9</td>\n",
       "      <td>24.98034</td>\n",
       "      <td>121.53951</td>\n",
       "      <td>42.2</td>\n",
       "    </tr>\n",
       "    <tr>\n",
       "      <th>2</th>\n",
       "      <td>3</td>\n",
       "      <td>2013.583</td>\n",
       "      <td>13.3</td>\n",
       "      <td>561.98450</td>\n",
       "      <td>5</td>\n",
       "      <td>24.98746</td>\n",
       "      <td>121.54391</td>\n",
       "      <td>47.3</td>\n",
       "    </tr>\n",
       "    <tr>\n",
       "      <th>3</th>\n",
       "      <td>4</td>\n",
       "      <td>2013.500</td>\n",
       "      <td>13.3</td>\n",
       "      <td>561.98450</td>\n",
       "      <td>5</td>\n",
       "      <td>24.98746</td>\n",
       "      <td>121.54391</td>\n",
       "      <td>54.8</td>\n",
       "    </tr>\n",
       "    <tr>\n",
       "      <th>4</th>\n",
       "      <td>5</td>\n",
       "      <td>2012.833</td>\n",
       "      <td>5.0</td>\n",
       "      <td>390.56840</td>\n",
       "      <td>5</td>\n",
       "      <td>24.97937</td>\n",
       "      <td>121.54245</td>\n",
       "      <td>43.1</td>\n",
       "    </tr>\n",
       "  </tbody>\n",
       "</table>\n",
       "</div>"
      ],
      "text/plain": [
       "   No        x1    x2         x3  x4        x5         x6     y\n",
       "0   1  2012.917  32.0   84.87882  10  24.98298  121.54024  37.9\n",
       "1   2  2012.917  19.5  306.59470   9  24.98034  121.53951  42.2\n",
       "2   3  2013.583  13.3  561.98450   5  24.98746  121.54391  47.3\n",
       "3   4  2013.500  13.3  561.98450   5  24.98746  121.54391  54.8\n",
       "4   5  2012.833   5.0  390.56840   5  24.97937  121.54245  43.1"
      ]
     },
     "execution_count": 6,
     "metadata": {},
     "output_type": "execute_result"
    }
   ],
   "source": [
    "df1 = df.copy()\n",
    "df1.head()"
   ]
  },
  {
   "cell_type": "code",
   "execution_count": 7,
   "id": "12c7f12e",
   "metadata": {},
   "outputs": [
    {
     "data": {
      "text/html": [
       "<div>\n",
       "<style scoped>\n",
       "    .dataframe tbody tr th:only-of-type {\n",
       "        vertical-align: middle;\n",
       "    }\n",
       "\n",
       "    .dataframe tbody tr th {\n",
       "        vertical-align: top;\n",
       "    }\n",
       "\n",
       "    .dataframe thead th {\n",
       "        text-align: right;\n",
       "    }\n",
       "</style>\n",
       "<table border=\"1\" class=\"dataframe\">\n",
       "  <thead>\n",
       "    <tr style=\"text-align: right;\">\n",
       "      <th></th>\n",
       "      <th>No</th>\n",
       "      <th>x1</th>\n",
       "      <th>x2</th>\n",
       "      <th>x3</th>\n",
       "      <th>x4</th>\n",
       "      <th>x5</th>\n",
       "      <th>x6</th>\n",
       "      <th>y</th>\n",
       "    </tr>\n",
       "  </thead>\n",
       "  <tbody>\n",
       "    <tr>\n",
       "      <th>0</th>\n",
       "      <td>1</td>\n",
       "      <td>2012-12-01</td>\n",
       "      <td>32.0</td>\n",
       "      <td>84.87882</td>\n",
       "      <td>10</td>\n",
       "      <td>24.98298</td>\n",
       "      <td>121.54024</td>\n",
       "      <td>37.9</td>\n",
       "    </tr>\n",
       "    <tr>\n",
       "      <th>1</th>\n",
       "      <td>2</td>\n",
       "      <td>2012-12-01</td>\n",
       "      <td>19.5</td>\n",
       "      <td>306.59470</td>\n",
       "      <td>9</td>\n",
       "      <td>24.98034</td>\n",
       "      <td>121.53951</td>\n",
       "      <td>42.2</td>\n",
       "    </tr>\n",
       "    <tr>\n",
       "      <th>2</th>\n",
       "      <td>3</td>\n",
       "      <td>2013-08-01</td>\n",
       "      <td>13.3</td>\n",
       "      <td>561.98450</td>\n",
       "      <td>5</td>\n",
       "      <td>24.98746</td>\n",
       "      <td>121.54391</td>\n",
       "      <td>47.3</td>\n",
       "    </tr>\n",
       "    <tr>\n",
       "      <th>3</th>\n",
       "      <td>4</td>\n",
       "      <td>2013-07-02</td>\n",
       "      <td>13.3</td>\n",
       "      <td>561.98450</td>\n",
       "      <td>5</td>\n",
       "      <td>24.98746</td>\n",
       "      <td>121.54391</td>\n",
       "      <td>54.8</td>\n",
       "    </tr>\n",
       "    <tr>\n",
       "      <th>4</th>\n",
       "      <td>5</td>\n",
       "      <td>2012-10-31</td>\n",
       "      <td>5.0</td>\n",
       "      <td>390.56840</td>\n",
       "      <td>5</td>\n",
       "      <td>24.97937</td>\n",
       "      <td>121.54245</td>\n",
       "      <td>43.1</td>\n",
       "    </tr>\n",
       "  </tbody>\n",
       "</table>\n",
       "</div>"
      ],
      "text/plain": [
       "   No          x1    x2         x3  x4        x5         x6     y\n",
       "0   1  2012-12-01  32.0   84.87882  10  24.98298  121.54024  37.9\n",
       "1   2  2012-12-01  19.5  306.59470   9  24.98034  121.53951  42.2\n",
       "2   3  2013-08-01  13.3  561.98450   5  24.98746  121.54391  47.3\n",
       "3   4  2013-07-02  13.3  561.98450   5  24.98746  121.54391  54.8\n",
       "4   5  2012-10-31   5.0  390.56840   5  24.97937  121.54245  43.1"
      ]
     },
     "execution_count": 7,
     "metadata": {},
     "output_type": "execute_result"
    }
   ],
   "source": [
    "import datetime\n",
    "def convert_to_date(year_and_fraction):\n",
    "    year_part = int(year_and_fraction)\n",
    "    fractional_part = year_and_fraction - year_part\n",
    "    days_in_year = 365 + (1 if year_part % 4 == 0 and year_part % 100 != 0 or year_part % 400 == 0 else 0)\n",
    "    days = int(days_in_year * fractional_part)\n",
    "    start_date = datetime.datetime(year_part, 1, 1)\n",
    "    final_date = start_date + datetime.timedelta(days=days)\n",
    "    return final_date.strftime(\"%Y-%m-%d\")\n",
    "\n",
    "df['x1'] = df['x1'].apply(convert_to_date)\n",
    "\n",
    "df.head()"
   ]
  },
  {
   "cell_type": "code",
   "execution_count": 8,
   "id": "7faf1d03",
   "metadata": {},
   "outputs": [
    {
     "data": {
      "text/html": [
       "<div>\n",
       "<style scoped>\n",
       "    .dataframe tbody tr th:only-of-type {\n",
       "        vertical-align: middle;\n",
       "    }\n",
       "\n",
       "    .dataframe tbody tr th {\n",
       "        vertical-align: top;\n",
       "    }\n",
       "\n",
       "    .dataframe thead th {\n",
       "        text-align: right;\n",
       "    }\n",
       "</style>\n",
       "<table border=\"1\" class=\"dataframe\">\n",
       "  <thead>\n",
       "    <tr style=\"text-align: right;\">\n",
       "      <th></th>\n",
       "      <th>No</th>\n",
       "      <th>x1</th>\n",
       "      <th>x2</th>\n",
       "      <th>x3</th>\n",
       "      <th>x4</th>\n",
       "      <th>x5</th>\n",
       "      <th>x6</th>\n",
       "      <th>y</th>\n",
       "    </tr>\n",
       "  </thead>\n",
       "  <tbody>\n",
       "    <tr>\n",
       "      <th>0</th>\n",
       "      <td>1</td>\n",
       "      <td>3</td>\n",
       "      <td>32.0</td>\n",
       "      <td>84.87882</td>\n",
       "      <td>10</td>\n",
       "      <td>24.98298</td>\n",
       "      <td>121.54024</td>\n",
       "      <td>37.9</td>\n",
       "    </tr>\n",
       "    <tr>\n",
       "      <th>1</th>\n",
       "      <td>2</td>\n",
       "      <td>3</td>\n",
       "      <td>19.5</td>\n",
       "      <td>306.59470</td>\n",
       "      <td>9</td>\n",
       "      <td>24.98034</td>\n",
       "      <td>121.53951</td>\n",
       "      <td>42.2</td>\n",
       "    </tr>\n",
       "    <tr>\n",
       "      <th>2</th>\n",
       "      <td>3</td>\n",
       "      <td>11</td>\n",
       "      <td>13.3</td>\n",
       "      <td>561.98450</td>\n",
       "      <td>5</td>\n",
       "      <td>24.98746</td>\n",
       "      <td>121.54391</td>\n",
       "      <td>47.3</td>\n",
       "    </tr>\n",
       "    <tr>\n",
       "      <th>3</th>\n",
       "      <td>4</td>\n",
       "      <td>10</td>\n",
       "      <td>13.3</td>\n",
       "      <td>561.98450</td>\n",
       "      <td>5</td>\n",
       "      <td>24.98746</td>\n",
       "      <td>121.54391</td>\n",
       "      <td>54.8</td>\n",
       "    </tr>\n",
       "    <tr>\n",
       "      <th>4</th>\n",
       "      <td>5</td>\n",
       "      <td>2</td>\n",
       "      <td>5.0</td>\n",
       "      <td>390.56840</td>\n",
       "      <td>5</td>\n",
       "      <td>24.97937</td>\n",
       "      <td>121.54245</td>\n",
       "      <td>43.1</td>\n",
       "    </tr>\n",
       "  </tbody>\n",
       "</table>\n",
       "</div>"
      ],
      "text/plain": [
       "   No  x1    x2         x3  x4        x5         x6     y\n",
       "0   1   3  32.0   84.87882  10  24.98298  121.54024  37.9\n",
       "1   2   3  19.5  306.59470   9  24.98034  121.53951  42.2\n",
       "2   3  11  13.3  561.98450   5  24.98746  121.54391  47.3\n",
       "3   4  10  13.3  561.98450   5  24.98746  121.54391  54.8\n",
       "4   5   2   5.0  390.56840   5  24.97937  121.54245  43.1"
      ]
     },
     "execution_count": 8,
     "metadata": {},
     "output_type": "execute_result"
    }
   ],
   "source": [
    "#date column convert into numeric value\n",
    "df['x1'] = df['x1'].astype('category')\n",
    "df['x1'] = df['x1'].cat.codes\n",
    "df.head()"
   ]
  },
  {
   "cell_type": "markdown",
   "id": "01b7b92d",
   "metadata": {},
   "source": [
    "'''2. Extract the feature columns (X1 to X6) and the target column (Y). Split the dataset into features (X) and\n",
    "target (y). (70% training & 30% testing ratio).'''"
   ]
  },
  {
   "cell_type": "code",
   "execution_count": 9,
   "id": "174f6d99",
   "metadata": {},
   "outputs": [
    {
     "data": {
      "text/html": [
       "<div>\n",
       "<style scoped>\n",
       "    .dataframe tbody tr th:only-of-type {\n",
       "        vertical-align: middle;\n",
       "    }\n",
       "\n",
       "    .dataframe tbody tr th {\n",
       "        vertical-align: top;\n",
       "    }\n",
       "\n",
       "    .dataframe thead th {\n",
       "        text-align: right;\n",
       "    }\n",
       "</style>\n",
       "<table border=\"1\" class=\"dataframe\">\n",
       "  <thead>\n",
       "    <tr style=\"text-align: right;\">\n",
       "      <th></th>\n",
       "      <th>No</th>\n",
       "      <th>x1</th>\n",
       "      <th>x2</th>\n",
       "      <th>x3</th>\n",
       "      <th>x4</th>\n",
       "      <th>x5</th>\n",
       "      <th>x6</th>\n",
       "      <th>y</th>\n",
       "    </tr>\n",
       "  </thead>\n",
       "  <tbody>\n",
       "    <tr>\n",
       "      <th>358</th>\n",
       "      <td>359</td>\n",
       "      <td>6</td>\n",
       "      <td>1.1</td>\n",
       "      <td>193.5845</td>\n",
       "      <td>6</td>\n",
       "      <td>24.96571</td>\n",
       "      <td>121.54089</td>\n",
       "      <td>45.1</td>\n",
       "    </tr>\n",
       "    <tr>\n",
       "      <th>350</th>\n",
       "      <td>351</td>\n",
       "      <td>4</td>\n",
       "      <td>13.2</td>\n",
       "      <td>492.2313</td>\n",
       "      <td>5</td>\n",
       "      <td>24.96515</td>\n",
       "      <td>121.53737</td>\n",
       "      <td>42.3</td>\n",
       "    </tr>\n",
       "    <tr>\n",
       "      <th>373</th>\n",
       "      <td>374</td>\n",
       "      <td>5</td>\n",
       "      <td>0.0</td>\n",
       "      <td>274.0144</td>\n",
       "      <td>1</td>\n",
       "      <td>24.97480</td>\n",
       "      <td>121.53059</td>\n",
       "      <td>52.2</td>\n",
       "    </tr>\n",
       "    <tr>\n",
       "      <th>399</th>\n",
       "      <td>400</td>\n",
       "      <td>3</td>\n",
       "      <td>12.7</td>\n",
       "      <td>170.1289</td>\n",
       "      <td>1</td>\n",
       "      <td>24.97371</td>\n",
       "      <td>121.52984</td>\n",
       "      <td>37.3</td>\n",
       "    </tr>\n",
       "    <tr>\n",
       "      <th>369</th>\n",
       "      <td>370</td>\n",
       "      <td>0</td>\n",
       "      <td>20.2</td>\n",
       "      <td>2185.1280</td>\n",
       "      <td>3</td>\n",
       "      <td>24.96322</td>\n",
       "      <td>121.51237</td>\n",
       "      <td>22.8</td>\n",
       "    </tr>\n",
       "  </tbody>\n",
       "</table>\n",
       "</div>"
      ],
      "text/plain": [
       "      No  x1    x2         x3  x4        x5         x6     y\n",
       "358  359   6   1.1   193.5845   6  24.96571  121.54089  45.1\n",
       "350  351   4  13.2   492.2313   5  24.96515  121.53737  42.3\n",
       "373  374   5   0.0   274.0144   1  24.97480  121.53059  52.2\n",
       "399  400   3  12.7   170.1289   1  24.97371  121.52984  37.3\n",
       "369  370   0  20.2  2185.1280   3  24.96322  121.51237  22.8"
      ]
     },
     "execution_count": 9,
     "metadata": {},
     "output_type": "execute_result"
    }
   ],
   "source": [
    "sample = 70\n",
    "subset = df.sample(sample, random_state=42)\n",
    "subset.head()"
   ]
  },
  {
   "cell_type": "code",
   "execution_count": 10,
   "id": "237f7855",
   "metadata": {},
   "outputs": [
    {
     "data": {
      "text/html": [
       "<div>\n",
       "<style scoped>\n",
       "    .dataframe tbody tr th:only-of-type {\n",
       "        vertical-align: middle;\n",
       "    }\n",
       "\n",
       "    .dataframe tbody tr th {\n",
       "        vertical-align: top;\n",
       "    }\n",
       "\n",
       "    .dataframe thead th {\n",
       "        text-align: right;\n",
       "    }\n",
       "</style>\n",
       "<table border=\"1\" class=\"dataframe\">\n",
       "  <thead>\n",
       "    <tr style=\"text-align: right;\">\n",
       "      <th></th>\n",
       "      <th>x1</th>\n",
       "      <th>x2</th>\n",
       "      <th>x3</th>\n",
       "      <th>x4</th>\n",
       "      <th>x5</th>\n",
       "      <th>x6</th>\n",
       "    </tr>\n",
       "  </thead>\n",
       "  <tbody>\n",
       "    <tr>\n",
       "      <th>358</th>\n",
       "      <td>6</td>\n",
       "      <td>1.1</td>\n",
       "      <td>193.5845</td>\n",
       "      <td>6</td>\n",
       "      <td>24.96571</td>\n",
       "      <td>121.54089</td>\n",
       "    </tr>\n",
       "    <tr>\n",
       "      <th>350</th>\n",
       "      <td>4</td>\n",
       "      <td>13.2</td>\n",
       "      <td>492.2313</td>\n",
       "      <td>5</td>\n",
       "      <td>24.96515</td>\n",
       "      <td>121.53737</td>\n",
       "    </tr>\n",
       "    <tr>\n",
       "      <th>373</th>\n",
       "      <td>5</td>\n",
       "      <td>0.0</td>\n",
       "      <td>274.0144</td>\n",
       "      <td>1</td>\n",
       "      <td>24.97480</td>\n",
       "      <td>121.53059</td>\n",
       "    </tr>\n",
       "    <tr>\n",
       "      <th>399</th>\n",
       "      <td>3</td>\n",
       "      <td>12.7</td>\n",
       "      <td>170.1289</td>\n",
       "      <td>1</td>\n",
       "      <td>24.97371</td>\n",
       "      <td>121.52984</td>\n",
       "    </tr>\n",
       "    <tr>\n",
       "      <th>369</th>\n",
       "      <td>0</td>\n",
       "      <td>20.2</td>\n",
       "      <td>2185.1280</td>\n",
       "      <td>3</td>\n",
       "      <td>24.96322</td>\n",
       "      <td>121.51237</td>\n",
       "    </tr>\n",
       "  </tbody>\n",
       "</table>\n",
       "</div>"
      ],
      "text/plain": [
       "     x1    x2         x3  x4        x5         x6\n",
       "358   6   1.1   193.5845   6  24.96571  121.54089\n",
       "350   4  13.2   492.2313   5  24.96515  121.53737\n",
       "373   5   0.0   274.0144   1  24.97480  121.53059\n",
       "399   3  12.7   170.1289   1  24.97371  121.52984\n",
       "369   0  20.2  2185.1280   3  24.96322  121.51237"
      ]
     },
     "execution_count": 10,
     "metadata": {},
     "output_type": "execute_result"
    }
   ],
   "source": [
    "x = subset.drop(columns=['No','y'], axis=1)\n",
    "x.head()"
   ]
  },
  {
   "cell_type": "code",
   "execution_count": 11,
   "id": "952f052b",
   "metadata": {},
   "outputs": [],
   "source": [
    "x2 = x.copy()\n",
    "x3 = x.copy()"
   ]
  },
  {
   "cell_type": "code",
   "execution_count": 12,
   "id": "d3e23b54",
   "metadata": {},
   "outputs": [
    {
     "data": {
      "text/plain": [
       "358    45.1\n",
       "350    42.3\n",
       "373    52.2\n",
       "399    37.3\n",
       "369    22.8\n",
       "Name: y, dtype: float64"
      ]
     },
     "execution_count": 12,
     "metadata": {},
     "output_type": "execute_result"
    }
   ],
   "source": [
    "y = subset['y']\n",
    "y.head()"
   ]
  },
  {
   "cell_type": "code",
   "execution_count": 13,
   "id": "530e260b",
   "metadata": {},
   "outputs": [],
   "source": [
    "from sklearn.model_selection import train_test_split"
   ]
  },
  {
   "cell_type": "code",
   "execution_count": 14,
   "id": "47168aac",
   "metadata": {},
   "outputs": [],
   "source": [
    "xtrain, xtest, ytrain, ytest = train_test_split(x,y, test_size=0.3, random_state=42)"
   ]
  },
  {
   "cell_type": "code",
   "execution_count": 15,
   "id": "138b2355",
   "metadata": {},
   "outputs": [
    {
     "name": "stdout",
     "output_type": "stream",
     "text": [
      "X_train shape: (49, 6)\n",
      "X_test shape: (21, 6)\n",
      "y_train shape: (49,)\n",
      "y_test shape: (21,)\n"
     ]
    }
   ],
   "source": [
    "print(\"X_train shape:\", xtrain.shape)\n",
    "print(\"X_test shape:\", xtest.shape)\n",
    "print(\"y_train shape:\", ytrain.shape)\n",
    "print(\"y_test shape:\", ytest.shape)"
   ]
  },
  {
   "cell_type": "code",
   "execution_count": 16,
   "id": "6b45528d",
   "metadata": {},
   "outputs": [
    {
     "data": {
      "text/html": [
       "<div>\n",
       "<style scoped>\n",
       "    .dataframe tbody tr th:only-of-type {\n",
       "        vertical-align: middle;\n",
       "    }\n",
       "\n",
       "    .dataframe tbody tr th {\n",
       "        vertical-align: top;\n",
       "    }\n",
       "\n",
       "    .dataframe thead th {\n",
       "        text-align: right;\n",
       "    }\n",
       "</style>\n",
       "<table border=\"1\" class=\"dataframe\">\n",
       "  <thead>\n",
       "    <tr style=\"text-align: right;\">\n",
       "      <th></th>\n",
       "      <th>x1</th>\n",
       "      <th>x2</th>\n",
       "      <th>x3</th>\n",
       "      <th>x4</th>\n",
       "      <th>x5</th>\n",
       "      <th>x6</th>\n",
       "    </tr>\n",
       "  </thead>\n",
       "  <tbody>\n",
       "    <tr>\n",
       "      <th>33</th>\n",
       "      <td>7</td>\n",
       "      <td>16.5</td>\n",
       "      <td>323.65500</td>\n",
       "      <td>6</td>\n",
       "      <td>24.97841</td>\n",
       "      <td>121.54281</td>\n",
       "    </tr>\n",
       "    <tr>\n",
       "      <th>0</th>\n",
       "      <td>3</td>\n",
       "      <td>32.0</td>\n",
       "      <td>84.87882</td>\n",
       "      <td>10</td>\n",
       "      <td>24.98298</td>\n",
       "      <td>121.54024</td>\n",
       "    </tr>\n",
       "    <tr>\n",
       "      <th>94</th>\n",
       "      <td>3</td>\n",
       "      <td>40.9</td>\n",
       "      <td>167.59890</td>\n",
       "      <td>5</td>\n",
       "      <td>24.96630</td>\n",
       "      <td>121.54026</td>\n",
       "    </tr>\n",
       "    <tr>\n",
       "      <th>140</th>\n",
       "      <td>7</td>\n",
       "      <td>16.2</td>\n",
       "      <td>289.32480</td>\n",
       "      <td>5</td>\n",
       "      <td>24.98203</td>\n",
       "      <td>121.54348</td>\n",
       "    </tr>\n",
       "    <tr>\n",
       "      <th>274</th>\n",
       "      <td>6</td>\n",
       "      <td>27.5</td>\n",
       "      <td>394.01730</td>\n",
       "      <td>7</td>\n",
       "      <td>24.97305</td>\n",
       "      <td>121.53994</td>\n",
       "    </tr>\n",
       "  </tbody>\n",
       "</table>\n",
       "</div>"
      ],
      "text/plain": [
       "     x1    x2         x3  x4        x5         x6\n",
       "33    7  16.5  323.65500   6  24.97841  121.54281\n",
       "0     3  32.0   84.87882  10  24.98298  121.54024\n",
       "94    3  40.9  167.59890   5  24.96630  121.54026\n",
       "140   7  16.2  289.32480   5  24.98203  121.54348\n",
       "274   6  27.5  394.01730   7  24.97305  121.53994"
      ]
     },
     "execution_count": 16,
     "metadata": {},
     "output_type": "execute_result"
    }
   ],
   "source": [
    "xtrain.head()"
   ]
  },
  {
   "cell_type": "markdown",
   "id": "8a521a1b",
   "metadata": {},
   "source": [
    "'''3. Standardize the feature columns (X1 to X6) using Z-score scaling. Implement the scaling process\n",
    "manually (without using libraries like `scikit-learn`).'''"
   ]
  },
  {
   "cell_type": "code",
   "execution_count": 17,
   "id": "63b6bfc2",
   "metadata": {
    "scrolled": true
   },
   "outputs": [
    {
     "data": {
      "text/html": [
       "<div>\n",
       "<style scoped>\n",
       "    .dataframe tbody tr th:only-of-type {\n",
       "        vertical-align: middle;\n",
       "    }\n",
       "\n",
       "    .dataframe tbody tr th {\n",
       "        vertical-align: top;\n",
       "    }\n",
       "\n",
       "    .dataframe thead th {\n",
       "        text-align: right;\n",
       "    }\n",
       "</style>\n",
       "<table border=\"1\" class=\"dataframe\">\n",
       "  <thead>\n",
       "    <tr style=\"text-align: right;\">\n",
       "      <th></th>\n",
       "      <th>x1</th>\n",
       "      <th>x2</th>\n",
       "      <th>x3</th>\n",
       "      <th>x4</th>\n",
       "      <th>x5</th>\n",
       "      <th>x6</th>\n",
       "    </tr>\n",
       "  </thead>\n",
       "  <tbody>\n",
       "    <tr>\n",
       "      <th>358</th>\n",
       "      <td>0.272851</td>\n",
       "      <td>-1.557226</td>\n",
       "      <td>-0.722015</td>\n",
       "      <td>0.705647</td>\n",
       "      <td>-0.112081</td>\n",
       "      <td>0.593503</td>\n",
       "    </tr>\n",
       "    <tr>\n",
       "      <th>350</th>\n",
       "      <td>-0.343264</td>\n",
       "      <td>-0.521358</td>\n",
       "      <td>-0.524996</td>\n",
       "      <td>0.374135</td>\n",
       "      <td>-0.157833</td>\n",
       "      <td>0.395022</td>\n",
       "    </tr>\n",
       "    <tr>\n",
       "      <th>373</th>\n",
       "      <td>-0.035207</td>\n",
       "      <td>-1.651396</td>\n",
       "      <td>-0.668955</td>\n",
       "      <td>-0.951913</td>\n",
       "      <td>0.630574</td>\n",
       "      <td>0.012719</td>\n",
       "    </tr>\n",
       "    <tr>\n",
       "      <th>399</th>\n",
       "      <td>-0.651322</td>\n",
       "      <td>-0.564163</td>\n",
       "      <td>-0.737489</td>\n",
       "      <td>-0.951913</td>\n",
       "      <td>0.541521</td>\n",
       "      <td>-0.029571</td>\n",
       "    </tr>\n",
       "    <tr>\n",
       "      <th>369</th>\n",
       "      <td>-1.575494</td>\n",
       "      <td>0.077904</td>\n",
       "      <td>0.591820</td>\n",
       "      <td>-0.288889</td>\n",
       "      <td>-0.315514</td>\n",
       "      <td>-1.014648</td>\n",
       "    </tr>\n",
       "  </tbody>\n",
       "</table>\n",
       "</div>"
      ],
      "text/plain": [
       "           x1        x2        x3        x4        x5        x6\n",
       "358  0.272851 -1.557226 -0.722015  0.705647 -0.112081  0.593503\n",
       "350 -0.343264 -0.521358 -0.524996  0.374135 -0.157833  0.395022\n",
       "373 -0.035207 -1.651396 -0.668955 -0.951913  0.630574  0.012719\n",
       "399 -0.651322 -0.564163 -0.737489 -0.951913  0.541521 -0.029571\n",
       "369 -1.575494  0.077904  0.591820 -0.288889 -0.315514 -1.014648"
      ]
     },
     "execution_count": 17,
     "metadata": {},
     "output_type": "execute_result"
    }
   ],
   "source": [
    "import warnings\n",
    "warnings.filterwarnings('ignore')\n",
    "\n",
    "for i in x:\n",
    "    mean = x[i].mean()\n",
    "    std = x[i].std()\n",
    "    x[i] = (x[i] - mean) / std\n",
    "    \n",
    "x.head()"
   ]
  },
  {
   "cell_type": "markdown",
   "id": "8824ca14",
   "metadata": {},
   "source": [
    "# Part 2: Linear Regression"
   ]
  },
  {
   "cell_type": "markdown",
   "id": "c3af86e1",
   "metadata": {},
   "source": [
    "'''4. Implement a simple linear regression model using the scaled features (X1 to X6) to predict the house\n",
    "price (Y). You can use gradient descent for optimization. Calculate the regression coefficients (intercept\n",
    "and slope) and write down the regression equation.'''"
   ]
  },
  {
   "cell_type": "code",
   "execution_count": 18,
   "id": "32b43786",
   "metadata": {},
   "outputs": [],
   "source": [
    "from sklearn.preprocessing import StandardScaler\n",
    "sdt = StandardScaler()"
   ]
  },
  {
   "cell_type": "code",
   "execution_count": 19,
   "id": "46ed9618",
   "metadata": {},
   "outputs": [
    {
     "data": {
      "text/html": [
       "<div>\n",
       "<style scoped>\n",
       "    .dataframe tbody tr th:only-of-type {\n",
       "        vertical-align: middle;\n",
       "    }\n",
       "\n",
       "    .dataframe tbody tr th {\n",
       "        vertical-align: top;\n",
       "    }\n",
       "\n",
       "    .dataframe thead th {\n",
       "        text-align: right;\n",
       "    }\n",
       "</style>\n",
       "<table border=\"1\" class=\"dataframe\">\n",
       "  <thead>\n",
       "    <tr style=\"text-align: right;\">\n",
       "      <th></th>\n",
       "      <th>x1</th>\n",
       "      <th>x2</th>\n",
       "      <th>x3</th>\n",
       "      <th>x4</th>\n",
       "      <th>x5</th>\n",
       "      <th>x6</th>\n",
       "    </tr>\n",
       "  </thead>\n",
       "  <tbody>\n",
       "    <tr>\n",
       "      <th>358</th>\n",
       "      <td>0.274821</td>\n",
       "      <td>-1.568470</td>\n",
       "      <td>-0.727228</td>\n",
       "      <td>0.710742</td>\n",
       "      <td>-0.112890</td>\n",
       "      <td>0.597788</td>\n",
       "    </tr>\n",
       "    <tr>\n",
       "      <th>350</th>\n",
       "      <td>-0.345743</td>\n",
       "      <td>-0.525123</td>\n",
       "      <td>-0.528786</td>\n",
       "      <td>0.376836</td>\n",
       "      <td>-0.158973</td>\n",
       "      <td>0.397874</td>\n",
       "    </tr>\n",
       "    <tr>\n",
       "      <th>373</th>\n",
       "      <td>-0.035461</td>\n",
       "      <td>-1.663319</td>\n",
       "      <td>-0.673785</td>\n",
       "      <td>-0.958786</td>\n",
       "      <td>0.635127</td>\n",
       "      <td>0.012811</td>\n",
       "    </tr>\n",
       "    <tr>\n",
       "      <th>399</th>\n",
       "      <td>-0.656024</td>\n",
       "      <td>-0.568236</td>\n",
       "      <td>-0.742814</td>\n",
       "      <td>-0.958786</td>\n",
       "      <td>0.545431</td>\n",
       "      <td>-0.029784</td>\n",
       "    </tr>\n",
       "    <tr>\n",
       "      <th>369</th>\n",
       "      <td>-1.586869</td>\n",
       "      <td>0.078467</td>\n",
       "      <td>0.596093</td>\n",
       "      <td>-0.290975</td>\n",
       "      <td>-0.317793</td>\n",
       "      <td>-1.021974</td>\n",
       "    </tr>\n",
       "  </tbody>\n",
       "</table>\n",
       "</div>"
      ],
      "text/plain": [
       "           x1        x2        x3        x4        x5        x6\n",
       "358  0.274821 -1.568470 -0.727228  0.710742 -0.112890  0.597788\n",
       "350 -0.345743 -0.525123 -0.528786  0.376836 -0.158973  0.397874\n",
       "373 -0.035461 -1.663319 -0.673785 -0.958786  0.635127  0.012811\n",
       "399 -0.656024 -0.568236 -0.742814 -0.958786  0.545431 -0.029784\n",
       "369 -1.586869  0.078467  0.596093 -0.290975 -0.317793 -1.021974"
      ]
     },
     "execution_count": 19,
     "metadata": {},
     "output_type": "execute_result"
    }
   ],
   "source": [
    "columns_to_std = range(0,6)\n",
    "\n",
    "x2.iloc[:,columns_to_std] = sdt.fit_transform(x2.iloc[:,columns_to_std])\n",
    "x2.head()"
   ]
  },
  {
   "cell_type": "code",
   "execution_count": 20,
   "id": "a8d9f23d",
   "metadata": {},
   "outputs": [],
   "source": [
    "xtrain, xtest, ytrain, ytest = train_test_split(x2,y, test_size=0.3, random_state=42)"
   ]
  },
  {
   "cell_type": "code",
   "execution_count": 21,
   "id": "aaabc68f",
   "metadata": {},
   "outputs": [
    {
     "data": {
      "text/html": [
       "<div>\n",
       "<style scoped>\n",
       "    .dataframe tbody tr th:only-of-type {\n",
       "        vertical-align: middle;\n",
       "    }\n",
       "\n",
       "    .dataframe tbody tr th {\n",
       "        vertical-align: top;\n",
       "    }\n",
       "\n",
       "    .dataframe thead th {\n",
       "        text-align: right;\n",
       "    }\n",
       "</style>\n",
       "<table border=\"1\" class=\"dataframe\">\n",
       "  <thead>\n",
       "    <tr style=\"text-align: right;\">\n",
       "      <th></th>\n",
       "      <th>x1</th>\n",
       "      <th>x2</th>\n",
       "      <th>x3</th>\n",
       "      <th>x4</th>\n",
       "      <th>x5</th>\n",
       "      <th>x6</th>\n",
       "    </tr>\n",
       "  </thead>\n",
       "  <tbody>\n",
       "    <tr>\n",
       "      <th>33</th>\n",
       "      <td>0.585103</td>\n",
       "      <td>-0.240573</td>\n",
       "      <td>-0.640800</td>\n",
       "      <td>0.710742</td>\n",
       "      <td>0.932194</td>\n",
       "      <td>0.706833</td>\n",
       "    </tr>\n",
       "    <tr>\n",
       "      <th>0</th>\n",
       "      <td>-0.656024</td>\n",
       "      <td>1.095945</td>\n",
       "      <td>-0.799460</td>\n",
       "      <td>2.046364</td>\n",
       "      <td>1.308260</td>\n",
       "      <td>0.560872</td>\n",
       "    </tr>\n",
       "    <tr>\n",
       "      <th>94</th>\n",
       "      <td>-0.656024</td>\n",
       "      <td>1.863366</td>\n",
       "      <td>-0.744495</td>\n",
       "      <td>0.376836</td>\n",
       "      <td>-0.064339</td>\n",
       "      <td>0.562008</td>\n",
       "    </tr>\n",
       "    <tr>\n",
       "      <th>140</th>\n",
       "      <td>0.585103</td>\n",
       "      <td>-0.266442</td>\n",
       "      <td>-0.663612</td>\n",
       "      <td>0.376836</td>\n",
       "      <td>1.230084</td>\n",
       "      <td>0.744885</td>\n",
       "    </tr>\n",
       "    <tr>\n",
       "      <th>274</th>\n",
       "      <td>0.274821</td>\n",
       "      <td>0.707924</td>\n",
       "      <td>-0.594047</td>\n",
       "      <td>1.044647</td>\n",
       "      <td>0.491119</td>\n",
       "      <td>0.543834</td>\n",
       "    </tr>\n",
       "  </tbody>\n",
       "</table>\n",
       "</div>"
      ],
      "text/plain": [
       "           x1        x2        x3        x4        x5        x6\n",
       "33   0.585103 -0.240573 -0.640800  0.710742  0.932194  0.706833\n",
       "0   -0.656024  1.095945 -0.799460  2.046364  1.308260  0.560872\n",
       "94  -0.656024  1.863366 -0.744495  0.376836 -0.064339  0.562008\n",
       "140  0.585103 -0.266442 -0.663612  0.376836  1.230084  0.744885\n",
       "274  0.274821  0.707924 -0.594047  1.044647  0.491119  0.543834"
      ]
     },
     "execution_count": 21,
     "metadata": {},
     "output_type": "execute_result"
    }
   ],
   "source": [
    "xtrain.head()"
   ]
  },
  {
   "cell_type": "code",
   "execution_count": 22,
   "id": "bcc68942",
   "metadata": {},
   "outputs": [],
   "source": [
    "from sklearn.linear_model import LinearRegression"
   ]
  },
  {
   "cell_type": "code",
   "execution_count": 23,
   "id": "251f6365",
   "metadata": {},
   "outputs": [],
   "source": [
    "reg =LinearRegression()"
   ]
  },
  {
   "cell_type": "code",
   "execution_count": 24,
   "id": "f72b5e7a",
   "metadata": {},
   "outputs": [
    {
     "data": {
      "text/html": [
       "<style>#sk-container-id-1 {color: black;}#sk-container-id-1 pre{padding: 0;}#sk-container-id-1 div.sk-toggleable {background-color: white;}#sk-container-id-1 label.sk-toggleable__label {cursor: pointer;display: block;width: 100%;margin-bottom: 0;padding: 0.3em;box-sizing: border-box;text-align: center;}#sk-container-id-1 label.sk-toggleable__label-arrow:before {content: \"▸\";float: left;margin-right: 0.25em;color: #696969;}#sk-container-id-1 label.sk-toggleable__label-arrow:hover:before {color: black;}#sk-container-id-1 div.sk-estimator:hover label.sk-toggleable__label-arrow:before {color: black;}#sk-container-id-1 div.sk-toggleable__content {max-height: 0;max-width: 0;overflow: hidden;text-align: left;background-color: #f0f8ff;}#sk-container-id-1 div.sk-toggleable__content pre {margin: 0.2em;color: black;border-radius: 0.25em;background-color: #f0f8ff;}#sk-container-id-1 input.sk-toggleable__control:checked~div.sk-toggleable__content {max-height: 200px;max-width: 100%;overflow: auto;}#sk-container-id-1 input.sk-toggleable__control:checked~label.sk-toggleable__label-arrow:before {content: \"▾\";}#sk-container-id-1 div.sk-estimator input.sk-toggleable__control:checked~label.sk-toggleable__label {background-color: #d4ebff;}#sk-container-id-1 div.sk-label input.sk-toggleable__control:checked~label.sk-toggleable__label {background-color: #d4ebff;}#sk-container-id-1 input.sk-hidden--visually {border: 0;clip: rect(1px 1px 1px 1px);clip: rect(1px, 1px, 1px, 1px);height: 1px;margin: -1px;overflow: hidden;padding: 0;position: absolute;width: 1px;}#sk-container-id-1 div.sk-estimator {font-family: monospace;background-color: #f0f8ff;border: 1px dotted black;border-radius: 0.25em;box-sizing: border-box;margin-bottom: 0.5em;}#sk-container-id-1 div.sk-estimator:hover {background-color: #d4ebff;}#sk-container-id-1 div.sk-parallel-item::after {content: \"\";width: 100%;border-bottom: 1px solid gray;flex-grow: 1;}#sk-container-id-1 div.sk-label:hover label.sk-toggleable__label {background-color: #d4ebff;}#sk-container-id-1 div.sk-serial::before {content: \"\";position: absolute;border-left: 1px solid gray;box-sizing: border-box;top: 0;bottom: 0;left: 50%;z-index: 0;}#sk-container-id-1 div.sk-serial {display: flex;flex-direction: column;align-items: center;background-color: white;padding-right: 0.2em;padding-left: 0.2em;position: relative;}#sk-container-id-1 div.sk-item {position: relative;z-index: 1;}#sk-container-id-1 div.sk-parallel {display: flex;align-items: stretch;justify-content: center;background-color: white;position: relative;}#sk-container-id-1 div.sk-item::before, #sk-container-id-1 div.sk-parallel-item::before {content: \"\";position: absolute;border-left: 1px solid gray;box-sizing: border-box;top: 0;bottom: 0;left: 50%;z-index: -1;}#sk-container-id-1 div.sk-parallel-item {display: flex;flex-direction: column;z-index: 1;position: relative;background-color: white;}#sk-container-id-1 div.sk-parallel-item:first-child::after {align-self: flex-end;width: 50%;}#sk-container-id-1 div.sk-parallel-item:last-child::after {align-self: flex-start;width: 50%;}#sk-container-id-1 div.sk-parallel-item:only-child::after {width: 0;}#sk-container-id-1 div.sk-dashed-wrapped {border: 1px dashed gray;margin: 0 0.4em 0.5em 0.4em;box-sizing: border-box;padding-bottom: 0.4em;background-color: white;}#sk-container-id-1 div.sk-label label {font-family: monospace;font-weight: bold;display: inline-block;line-height: 1.2em;}#sk-container-id-1 div.sk-label-container {text-align: center;}#sk-container-id-1 div.sk-container {/* jupyter's `normalize.less` sets `[hidden] { display: none; }` but bootstrap.min.css set `[hidden] { display: none !important; }` so we also need the `!important` here to be able to override the default hidden behavior on the sphinx rendered scikit-learn.org. See: https://github.com/scikit-learn/scikit-learn/issues/21755 */display: inline-block !important;position: relative;}#sk-container-id-1 div.sk-text-repr-fallback {display: none;}</style><div id=\"sk-container-id-1\" class=\"sk-top-container\"><div class=\"sk-text-repr-fallback\"><pre>LinearRegression()</pre><b>In a Jupyter environment, please rerun this cell to show the HTML representation or trust the notebook. <br />On GitHub, the HTML representation is unable to render, please try loading this page with nbviewer.org.</b></div><div class=\"sk-container\" hidden><div class=\"sk-item\"><div class=\"sk-estimator sk-toggleable\"><input class=\"sk-toggleable__control sk-hidden--visually\" id=\"sk-estimator-id-1\" type=\"checkbox\" checked><label for=\"sk-estimator-id-1\" class=\"sk-toggleable__label sk-toggleable__label-arrow\">LinearRegression</label><div class=\"sk-toggleable__content\"><pre>LinearRegression()</pre></div></div></div></div></div>"
      ],
      "text/plain": [
       "LinearRegression()"
      ]
     },
     "execution_count": 24,
     "metadata": {},
     "output_type": "execute_result"
    }
   ],
   "source": [
    "reg.fit(xtrain, ytrain)"
   ]
  },
  {
   "cell_type": "code",
   "execution_count": 25,
   "id": "d6aad48d",
   "metadata": {},
   "outputs": [
    {
     "data": {
      "text/plain": [
       "array([ 0.26853007, -3.1728562 ,  0.42767756,  3.64611943,  5.59165328,\n",
       "        4.96030383])"
      ]
     },
     "execution_count": 25,
     "metadata": {},
     "output_type": "execute_result"
    }
   ],
   "source": [
    "m = reg.coef_\n",
    "m"
   ]
  },
  {
   "cell_type": "code",
   "execution_count": 26,
   "id": "624f7b35",
   "metadata": {},
   "outputs": [
    {
     "data": {
      "text/plain": [
       "36.672700513779745"
      ]
     },
     "execution_count": 26,
     "metadata": {},
     "output_type": "execute_result"
    }
   ],
   "source": [
    "c = reg.intercept_\n",
    "c"
   ]
  },
  {
   "cell_type": "code",
   "execution_count": 27,
   "id": "60e5cf7b",
   "metadata": {},
   "outputs": [
    {
     "data": {
      "text/plain": [
       "array([48.62912729, 50.23606843, 34.06790194, 49.33843554, 43.49895612,\n",
       "       41.7004894 , 40.28324868, 46.90478466, 45.50632685, 33.73058233,\n",
       "       41.26114483, 37.37944014, 49.78718015, 20.1839443 , 46.42074574,\n",
       "       37.38805668, 41.68317161, 20.1763655 , 15.10021577, 49.08723142,\n",
       "       52.98630148, 15.09932202, 33.5974253 , 33.90063975, 30.98533788,\n",
       "       41.52163679, 41.62874854, 14.40875958, 47.85866278, 13.56172967,\n",
       "       49.25511556, 12.39847444, 33.62647178, 36.90622522, 32.44214336,\n",
       "       31.84796227, 14.96093441, 42.00080533, 41.07764366, 32.0543883 ,\n",
       "       40.47849142, 43.55111141, 32.19366965, 41.77159671, 43.46646161,\n",
       "        6.10544117, 32.1759149 , 37.8392257 , 52.33594193])"
      ]
     },
     "execution_count": 27,
     "metadata": {},
     "output_type": "execute_result"
    }
   ],
   "source": [
    "y_pred_train = reg.predict(xtrain)\n",
    "y_pred_train"
   ]
  },
  {
   "cell_type": "code",
   "execution_count": 28,
   "id": "15898884",
   "metadata": {},
   "outputs": [
    {
     "data": {
      "text/plain": [
       "33     49.3\n",
       "0      37.9\n",
       "94     41.0\n",
       "140    51.4\n",
       "274    41.0\n",
       "15     50.5\n",
       "272    40.5\n",
       "271    26.5\n",
       "84     43.7\n",
       "42     34.7\n",
       "361    63.3\n",
       "402    28.5\n",
       "222    48.5\n",
       "55     13.7\n",
       "225    49.0\n",
       "399    37.3\n",
       "291    54.4\n",
       "93     16.1\n",
       "73     20.0\n",
       "262    53.0\n",
       "Name: y, dtype: float64"
      ]
     },
     "execution_count": 28,
     "metadata": {},
     "output_type": "execute_result"
    }
   ],
   "source": [
    "ytrain.head(20)"
   ]
  },
  {
   "cell_type": "code",
   "execution_count": 29,
   "id": "b3cb6708",
   "metadata": {},
   "outputs": [
    {
     "data": {
      "text/plain": [
       "array([50.80780224, 46.33742576, 49.74413828, 28.34533353, 35.78406697,\n",
       "       29.94138589, 30.32244642, 31.66371523, 50.59856121, 42.3687584 ,\n",
       "       38.16385966, 53.46135112, 47.83228937, 44.84315968, 15.10021577,\n",
       "       13.09818974, 28.4298977 , 30.25192775, 45.68465674, 36.67037906,\n",
       "       43.23947545])"
      ]
     },
     "execution_count": 29,
     "metadata": {},
     "output_type": "execute_result"
    }
   ],
   "source": [
    "y_pred_test = reg.predict(xtest)\n",
    "y_pred_test"
   ]
  },
  {
   "cell_type": "code",
   "execution_count": 30,
   "id": "5ca4c983",
   "metadata": {},
   "outputs": [
    {
     "data": {
      "text/plain": [
       "374    49.5\n",
       "358    45.1\n",
       "360    47.1\n",
       "369    22.8\n",
       "175    36.5\n",
       "365    29.5\n",
       "118    30.6\n",
       "79     26.5\n",
       "124    57.4\n",
       "336    35.6\n",
       "Name: y, dtype: float64"
      ]
     },
     "execution_count": 30,
     "metadata": {},
     "output_type": "execute_result"
    }
   ],
   "source": [
    "ytest.head(10)"
   ]
  },
  {
   "cell_type": "markdown",
   "id": "bbfd82a5",
   "metadata": {},
   "source": [
    "'''It's a multiple linear Regreassion, the equation would be \n",
    "y(pred) = m1x1 + m2x2+ ............+mnxn+c'''"
   ]
  },
  {
   "cell_type": "markdown",
   "id": "f297e2ff",
   "metadata": {},
   "source": [
    "'''5. Evaluate the model's performance using metrics such as Mean Squared Error (MSE) and R-squared.\n",
    "Interpret the R-squared value in the context of this regression.'''"
   ]
  },
  {
   "cell_type": "code",
   "execution_count": 31,
   "id": "8e63eca9",
   "metadata": {},
   "outputs": [],
   "source": [
    "from sklearn.metrics import r2_score   #r2_score means reg.score both are same"
   ]
  },
  {
   "cell_type": "code",
   "execution_count": 32,
   "id": "8415ac0b",
   "metadata": {},
   "outputs": [
    {
     "data": {
      "text/plain": [
       "0.6954060616468085"
      ]
     },
     "execution_count": 32,
     "metadata": {},
     "output_type": "execute_result"
    }
   ],
   "source": [
    "r2_Squard_Train = r2_score(ytrain,y_pred_train)\n",
    "r2_Squard_Train"
   ]
  },
  {
   "cell_type": "code",
   "execution_count": 33,
   "id": "c5aee881",
   "metadata": {},
   "outputs": [
    {
     "data": {
      "text/plain": [
       "0.6503280007285186"
      ]
     },
     "execution_count": 33,
     "metadata": {},
     "output_type": "execute_result"
    }
   ],
   "source": [
    "r2_Squard = r2_score(ytest,y_pred_test)\n",
    "r2_Squard "
   ]
  },
  {
   "cell_type": "markdown",
   "id": "881d52eb",
   "metadata": {},
   "source": [
    "# So this Linear Regression Less data low performance and More data high performace"
   ]
  },
  {
   "cell_type": "code",
   "execution_count": 34,
   "id": "a9a6aa95",
   "metadata": {},
   "outputs": [],
   "source": [
    "from sklearn.metrics import mean_squared_error "
   ]
  },
  {
   "cell_type": "code",
   "execution_count": 35,
   "id": "ce9717dc",
   "metadata": {},
   "outputs": [
    {
     "data": {
      "text/plain": [
       "61.818475197255104"
      ]
     },
     "execution_count": 35,
     "metadata": {},
     "output_type": "execute_result"
    }
   ],
   "source": [
    "MSE = mean_squared_error(ytrain, y_pred_train)\n",
    "MSE"
   ]
  },
  {
   "cell_type": "markdown",
   "id": "e252d552",
   "metadata": {},
   "source": [
    "# Interpret the R-squared value in the context of this regression."
   ]
  },
  {
   "cell_type": "markdown",
   "id": "c968557b",
   "metadata": {},
   "source": [
    "'''An R-squared value of 0.6954060616468085 suggests that your model is able to capture and explain about 69.54% of the variability in the house price of unit area using the provided features.\n",
    "\n",
    "This R-squared value is between 0 and 1. A value of 1 would indicate a perfect fit where the model perfectly explains the variability, while a value of 0 would indicate that the model does not explain any of the variability.\n",
    "\n",
    "A value of 0.6954 can be considered moderately good, especially for complex real-world datasets. It indicates that our model's predictions capture a substantial portion of the variation in the target variable, which is a positive sign.\n",
    "\n",
    "However, keep in mind that the interpretation of R-squared can depend on the context of our problem. For some domains and problems, an R-squared value above 0.6 might be considered acceptable, while in other cases, higher values might be desired.\n",
    "\n",
    "It's important to remember that R-squared alone does not tell the whole story of model performance. Other evaluation metrics, the distribution of residuals, and the specific goals of your analysis also need to be considered.'''"
   ]
  },
  {
   "cell_type": "markdown",
   "id": "dfa4031f",
   "metadata": {},
   "source": [
    "# Part 3: Feature Scaling Comparison"
   ]
  },
  {
   "cell_type": "markdown",
   "id": "60d9fc6a",
   "metadata": {},
   "source": [
    "'''6. Train another linear regression model without scaling the features. Compare the performance of this\n",
    "model with the scaled model from Part 2 in terms of convergence speed and prediction accuracy.'''"
   ]
  },
  {
   "cell_type": "code",
   "execution_count": 36,
   "id": "8626077e",
   "metadata": {},
   "outputs": [
    {
     "data": {
      "text/html": [
       "<div>\n",
       "<style scoped>\n",
       "    .dataframe tbody tr th:only-of-type {\n",
       "        vertical-align: middle;\n",
       "    }\n",
       "\n",
       "    .dataframe tbody tr th {\n",
       "        vertical-align: top;\n",
       "    }\n",
       "\n",
       "    .dataframe thead th {\n",
       "        text-align: right;\n",
       "    }\n",
       "</style>\n",
       "<table border=\"1\" class=\"dataframe\">\n",
       "  <thead>\n",
       "    <tr style=\"text-align: right;\">\n",
       "      <th></th>\n",
       "      <th>x1</th>\n",
       "      <th>x2</th>\n",
       "      <th>x3</th>\n",
       "      <th>x4</th>\n",
       "      <th>x5</th>\n",
       "      <th>x6</th>\n",
       "    </tr>\n",
       "  </thead>\n",
       "  <tbody>\n",
       "    <tr>\n",
       "      <th>358</th>\n",
       "      <td>6</td>\n",
       "      <td>1.1</td>\n",
       "      <td>193.5845</td>\n",
       "      <td>6</td>\n",
       "      <td>24.96571</td>\n",
       "      <td>121.54089</td>\n",
       "    </tr>\n",
       "    <tr>\n",
       "      <th>350</th>\n",
       "      <td>4</td>\n",
       "      <td>13.2</td>\n",
       "      <td>492.2313</td>\n",
       "      <td>5</td>\n",
       "      <td>24.96515</td>\n",
       "      <td>121.53737</td>\n",
       "    </tr>\n",
       "    <tr>\n",
       "      <th>373</th>\n",
       "      <td>5</td>\n",
       "      <td>0.0</td>\n",
       "      <td>274.0144</td>\n",
       "      <td>1</td>\n",
       "      <td>24.97480</td>\n",
       "      <td>121.53059</td>\n",
       "    </tr>\n",
       "    <tr>\n",
       "      <th>399</th>\n",
       "      <td>3</td>\n",
       "      <td>12.7</td>\n",
       "      <td>170.1289</td>\n",
       "      <td>1</td>\n",
       "      <td>24.97371</td>\n",
       "      <td>121.52984</td>\n",
       "    </tr>\n",
       "    <tr>\n",
       "      <th>369</th>\n",
       "      <td>0</td>\n",
       "      <td>20.2</td>\n",
       "      <td>2185.1280</td>\n",
       "      <td>3</td>\n",
       "      <td>24.96322</td>\n",
       "      <td>121.51237</td>\n",
       "    </tr>\n",
       "  </tbody>\n",
       "</table>\n",
       "</div>"
      ],
      "text/plain": [
       "     x1    x2         x3  x4        x5         x6\n",
       "358   6   1.1   193.5845   6  24.96571  121.54089\n",
       "350   4  13.2   492.2313   5  24.96515  121.53737\n",
       "373   5   0.0   274.0144   1  24.97480  121.53059\n",
       "399   3  12.7   170.1289   1  24.97371  121.52984\n",
       "369   0  20.2  2185.1280   3  24.96322  121.51237"
      ]
     },
     "execution_count": 36,
     "metadata": {},
     "output_type": "execute_result"
    }
   ],
   "source": [
    "x3.head()"
   ]
  },
  {
   "cell_type": "code",
   "execution_count": 37,
   "id": "06e8b197",
   "metadata": {},
   "outputs": [
    {
     "data": {
      "text/plain": [
       "358    45.1\n",
       "350    42.3\n",
       "373    52.2\n",
       "399    37.3\n",
       "369    22.8\n",
       "Name: y, dtype: float64"
      ]
     },
     "execution_count": 37,
     "metadata": {},
     "output_type": "execute_result"
    }
   ],
   "source": [
    "y.head()"
   ]
  },
  {
   "cell_type": "code",
   "execution_count": 38,
   "id": "f40ddde9",
   "metadata": {},
   "outputs": [],
   "source": [
    "xtrain, xtest, ytrain, ytest = train_test_split(x3, y, test_size=0.3, random_state=42)\n"
   ]
  },
  {
   "cell_type": "code",
   "execution_count": 39,
   "id": "9fdfb7b7",
   "metadata": {},
   "outputs": [
    {
     "data": {
      "text/html": [
       "<style>#sk-container-id-2 {color: black;}#sk-container-id-2 pre{padding: 0;}#sk-container-id-2 div.sk-toggleable {background-color: white;}#sk-container-id-2 label.sk-toggleable__label {cursor: pointer;display: block;width: 100%;margin-bottom: 0;padding: 0.3em;box-sizing: border-box;text-align: center;}#sk-container-id-2 label.sk-toggleable__label-arrow:before {content: \"▸\";float: left;margin-right: 0.25em;color: #696969;}#sk-container-id-2 label.sk-toggleable__label-arrow:hover:before {color: black;}#sk-container-id-2 div.sk-estimator:hover label.sk-toggleable__label-arrow:before {color: black;}#sk-container-id-2 div.sk-toggleable__content {max-height: 0;max-width: 0;overflow: hidden;text-align: left;background-color: #f0f8ff;}#sk-container-id-2 div.sk-toggleable__content pre {margin: 0.2em;color: black;border-radius: 0.25em;background-color: #f0f8ff;}#sk-container-id-2 input.sk-toggleable__control:checked~div.sk-toggleable__content {max-height: 200px;max-width: 100%;overflow: auto;}#sk-container-id-2 input.sk-toggleable__control:checked~label.sk-toggleable__label-arrow:before {content: \"▾\";}#sk-container-id-2 div.sk-estimator input.sk-toggleable__control:checked~label.sk-toggleable__label {background-color: #d4ebff;}#sk-container-id-2 div.sk-label input.sk-toggleable__control:checked~label.sk-toggleable__label {background-color: #d4ebff;}#sk-container-id-2 input.sk-hidden--visually {border: 0;clip: rect(1px 1px 1px 1px);clip: rect(1px, 1px, 1px, 1px);height: 1px;margin: -1px;overflow: hidden;padding: 0;position: absolute;width: 1px;}#sk-container-id-2 div.sk-estimator {font-family: monospace;background-color: #f0f8ff;border: 1px dotted black;border-radius: 0.25em;box-sizing: border-box;margin-bottom: 0.5em;}#sk-container-id-2 div.sk-estimator:hover {background-color: #d4ebff;}#sk-container-id-2 div.sk-parallel-item::after {content: \"\";width: 100%;border-bottom: 1px solid gray;flex-grow: 1;}#sk-container-id-2 div.sk-label:hover label.sk-toggleable__label {background-color: #d4ebff;}#sk-container-id-2 div.sk-serial::before {content: \"\";position: absolute;border-left: 1px solid gray;box-sizing: border-box;top: 0;bottom: 0;left: 50%;z-index: 0;}#sk-container-id-2 div.sk-serial {display: flex;flex-direction: column;align-items: center;background-color: white;padding-right: 0.2em;padding-left: 0.2em;position: relative;}#sk-container-id-2 div.sk-item {position: relative;z-index: 1;}#sk-container-id-2 div.sk-parallel {display: flex;align-items: stretch;justify-content: center;background-color: white;position: relative;}#sk-container-id-2 div.sk-item::before, #sk-container-id-2 div.sk-parallel-item::before {content: \"\";position: absolute;border-left: 1px solid gray;box-sizing: border-box;top: 0;bottom: 0;left: 50%;z-index: -1;}#sk-container-id-2 div.sk-parallel-item {display: flex;flex-direction: column;z-index: 1;position: relative;background-color: white;}#sk-container-id-2 div.sk-parallel-item:first-child::after {align-self: flex-end;width: 50%;}#sk-container-id-2 div.sk-parallel-item:last-child::after {align-self: flex-start;width: 50%;}#sk-container-id-2 div.sk-parallel-item:only-child::after {width: 0;}#sk-container-id-2 div.sk-dashed-wrapped {border: 1px dashed gray;margin: 0 0.4em 0.5em 0.4em;box-sizing: border-box;padding-bottom: 0.4em;background-color: white;}#sk-container-id-2 div.sk-label label {font-family: monospace;font-weight: bold;display: inline-block;line-height: 1.2em;}#sk-container-id-2 div.sk-label-container {text-align: center;}#sk-container-id-2 div.sk-container {/* jupyter's `normalize.less` sets `[hidden] { display: none; }` but bootstrap.min.css set `[hidden] { display: none !important; }` so we also need the `!important` here to be able to override the default hidden behavior on the sphinx rendered scikit-learn.org. See: https://github.com/scikit-learn/scikit-learn/issues/21755 */display: inline-block !important;position: relative;}#sk-container-id-2 div.sk-text-repr-fallback {display: none;}</style><div id=\"sk-container-id-2\" class=\"sk-top-container\"><div class=\"sk-text-repr-fallback\"><pre>LinearRegression()</pre><b>In a Jupyter environment, please rerun this cell to show the HTML representation or trust the notebook. <br />On GitHub, the HTML representation is unable to render, please try loading this page with nbviewer.org.</b></div><div class=\"sk-container\" hidden><div class=\"sk-item\"><div class=\"sk-estimator sk-toggleable\"><input class=\"sk-toggleable__control sk-hidden--visually\" id=\"sk-estimator-id-2\" type=\"checkbox\" checked><label for=\"sk-estimator-id-2\" class=\"sk-toggleable__label sk-toggleable__label-arrow\">LinearRegression</label><div class=\"sk-toggleable__content\"><pre>LinearRegression()</pre></div></div></div></div></div>"
      ],
      "text/plain": [
       "LinearRegression()"
      ]
     },
     "execution_count": 39,
     "metadata": {},
     "output_type": "execute_result"
    }
   ],
   "source": [
    "reg.fit(xtrain, ytrain)"
   ]
  },
  {
   "cell_type": "code",
   "execution_count": 40,
   "id": "cdf62e8b",
   "metadata": {},
   "outputs": [
    {
     "data": {
      "text/html": [
       "<div>\n",
       "<style scoped>\n",
       "    .dataframe tbody tr th:only-of-type {\n",
       "        vertical-align: middle;\n",
       "    }\n",
       "\n",
       "    .dataframe tbody tr th {\n",
       "        vertical-align: top;\n",
       "    }\n",
       "\n",
       "    .dataframe thead th {\n",
       "        text-align: right;\n",
       "    }\n",
       "</style>\n",
       "<table border=\"1\" class=\"dataframe\">\n",
       "  <thead>\n",
       "    <tr style=\"text-align: right;\">\n",
       "      <th></th>\n",
       "      <th>x1</th>\n",
       "      <th>x2</th>\n",
       "      <th>x3</th>\n",
       "      <th>x4</th>\n",
       "      <th>x5</th>\n",
       "      <th>x6</th>\n",
       "    </tr>\n",
       "  </thead>\n",
       "  <tbody>\n",
       "    <tr>\n",
       "      <th>33</th>\n",
       "      <td>7</td>\n",
       "      <td>16.5</td>\n",
       "      <td>323.65500</td>\n",
       "      <td>6</td>\n",
       "      <td>24.97841</td>\n",
       "      <td>121.54281</td>\n",
       "    </tr>\n",
       "    <tr>\n",
       "      <th>0</th>\n",
       "      <td>3</td>\n",
       "      <td>32.0</td>\n",
       "      <td>84.87882</td>\n",
       "      <td>10</td>\n",
       "      <td>24.98298</td>\n",
       "      <td>121.54024</td>\n",
       "    </tr>\n",
       "    <tr>\n",
       "      <th>94</th>\n",
       "      <td>3</td>\n",
       "      <td>40.9</td>\n",
       "      <td>167.59890</td>\n",
       "      <td>5</td>\n",
       "      <td>24.96630</td>\n",
       "      <td>121.54026</td>\n",
       "    </tr>\n",
       "    <tr>\n",
       "      <th>140</th>\n",
       "      <td>7</td>\n",
       "      <td>16.2</td>\n",
       "      <td>289.32480</td>\n",
       "      <td>5</td>\n",
       "      <td>24.98203</td>\n",
       "      <td>121.54348</td>\n",
       "    </tr>\n",
       "    <tr>\n",
       "      <th>274</th>\n",
       "      <td>6</td>\n",
       "      <td>27.5</td>\n",
       "      <td>394.01730</td>\n",
       "      <td>7</td>\n",
       "      <td>24.97305</td>\n",
       "      <td>121.53994</td>\n",
       "    </tr>\n",
       "  </tbody>\n",
       "</table>\n",
       "</div>"
      ],
      "text/plain": [
       "     x1    x2         x3  x4        x5         x6\n",
       "33    7  16.5  323.65500   6  24.97841  121.54281\n",
       "0     3  32.0   84.87882  10  24.98298  121.54024\n",
       "94    3  40.9  167.59890   5  24.96630  121.54026\n",
       "140   7  16.2  289.32480   5  24.98203  121.54348\n",
       "274   6  27.5  394.01730   7  24.97305  121.53994"
      ]
     },
     "execution_count": 40,
     "metadata": {},
     "output_type": "execute_result"
    }
   ],
   "source": [
    "xtrain.head()"
   ]
  },
  {
   "cell_type": "code",
   "execution_count": 41,
   "id": "62005451",
   "metadata": {},
   "outputs": [
    {
     "data": {
      "text/html": [
       "<div>\n",
       "<style scoped>\n",
       "    .dataframe tbody tr th:only-of-type {\n",
       "        vertical-align: middle;\n",
       "    }\n",
       "\n",
       "    .dataframe tbody tr th {\n",
       "        vertical-align: top;\n",
       "    }\n",
       "\n",
       "    .dataframe thead th {\n",
       "        text-align: right;\n",
       "    }\n",
       "</style>\n",
       "<table border=\"1\" class=\"dataframe\">\n",
       "  <thead>\n",
       "    <tr style=\"text-align: right;\">\n",
       "      <th></th>\n",
       "      <th>x1</th>\n",
       "      <th>x2</th>\n",
       "      <th>x3</th>\n",
       "      <th>x4</th>\n",
       "      <th>x5</th>\n",
       "      <th>x6</th>\n",
       "    </tr>\n",
       "  </thead>\n",
       "  <tbody>\n",
       "    <tr>\n",
       "      <th>374</th>\n",
       "      <td>7</td>\n",
       "      <td>5.4</td>\n",
       "      <td>390.56840</td>\n",
       "      <td>5</td>\n",
       "      <td>24.97937</td>\n",
       "      <td>121.54245</td>\n",
       "    </tr>\n",
       "    <tr>\n",
       "      <th>358</th>\n",
       "      <td>6</td>\n",
       "      <td>1.1</td>\n",
       "      <td>193.58450</td>\n",
       "      <td>6</td>\n",
       "      <td>24.96571</td>\n",
       "      <td>121.54089</td>\n",
       "    </tr>\n",
       "    <tr>\n",
       "      <th>360</th>\n",
       "      <td>0</td>\n",
       "      <td>32.9</td>\n",
       "      <td>87.30222</td>\n",
       "      <td>10</td>\n",
       "      <td>24.98300</td>\n",
       "      <td>121.54022</td>\n",
       "    </tr>\n",
       "    <tr>\n",
       "      <th>369</th>\n",
       "      <td>0</td>\n",
       "      <td>20.2</td>\n",
       "      <td>2185.12800</td>\n",
       "      <td>3</td>\n",
       "      <td>24.96322</td>\n",
       "      <td>121.51237</td>\n",
       "    </tr>\n",
       "    <tr>\n",
       "      <th>175</th>\n",
       "      <td>5</td>\n",
       "      <td>30.2</td>\n",
       "      <td>472.17450</td>\n",
       "      <td>3</td>\n",
       "      <td>24.97005</td>\n",
       "      <td>121.53758</td>\n",
       "    </tr>\n",
       "  </tbody>\n",
       "</table>\n",
       "</div>"
      ],
      "text/plain": [
       "     x1    x2          x3  x4        x5         x6\n",
       "374   7   5.4   390.56840   5  24.97937  121.54245\n",
       "358   6   1.1   193.58450   6  24.96571  121.54089\n",
       "360   0  32.9    87.30222  10  24.98300  121.54022\n",
       "369   0  20.2  2185.12800   3  24.96322  121.51237\n",
       "175   5  30.2   472.17450   3  24.97005  121.53758"
      ]
     },
     "execution_count": 41,
     "metadata": {},
     "output_type": "execute_result"
    }
   ],
   "source": [
    "xtest.head()"
   ]
  },
  {
   "cell_type": "code",
   "execution_count": 42,
   "id": "de6a7e55",
   "metadata": {},
   "outputs": [
    {
     "data": {
      "text/plain": [
       "(49, 6)"
      ]
     },
     "execution_count": 42,
     "metadata": {},
     "output_type": "execute_result"
    }
   ],
   "source": [
    "xtrain.shape"
   ]
  },
  {
   "cell_type": "code",
   "execution_count": 43,
   "id": "b107b464",
   "metadata": {},
   "outputs": [
    {
     "data": {
      "text/plain": [
       "(21,)"
      ]
     },
     "execution_count": 43,
     "metadata": {},
     "output_type": "execute_result"
    }
   ],
   "source": [
    "ytest.shape"
   ]
  },
  {
   "cell_type": "code",
   "execution_count": 44,
   "id": "f2e0aede",
   "metadata": {},
   "outputs": [
    {
     "data": {
      "text/plain": [
       "-45688.791256198296"
      ]
     },
     "execution_count": 44,
     "metadata": {},
     "output_type": "execute_result"
    }
   ],
   "source": [
    "c = reg.intercept_\n",
    "c"
   ]
  },
  {
   "cell_type": "code",
   "execution_count": 45,
   "id": "8a5e0050",
   "metadata": {},
   "outputs": [
    {
     "data": {
      "text/plain": [
       "array([ 8.33199753e-02, -2.73585950e-01,  2.84179015e-04,  1.21745924e+00,\n",
       "        4.60137706e+02,  2.81715112e+02])"
      ]
     },
     "execution_count": 45,
     "metadata": {},
     "output_type": "execute_result"
    }
   ],
   "source": [
    "m = reg.coef_\n",
    "m"
   ]
  },
  {
   "cell_type": "code",
   "execution_count": 46,
   "id": "a3924006",
   "metadata": {},
   "outputs": [
    {
     "data": {
      "text/plain": [
       "array([48.62912729, 50.23606843, 34.06790194, 49.33843554, 43.49895612,\n",
       "       41.7004894 , 40.28324868, 46.90478466, 45.50632685, 33.73058233,\n",
       "       41.26114483, 37.37944014, 49.78718015, 20.1839443 , 46.42074574,\n",
       "       37.38805668, 41.68317161, 20.1763655 , 15.10021577, 49.08723142,\n",
       "       52.98630148, 15.09932202, 33.5974253 , 33.90063975, 30.98533788,\n",
       "       41.52163679, 41.62874854, 14.40875958, 47.85866278, 13.56172967,\n",
       "       49.25511556, 12.39847444, 33.62647178, 36.90622522, 32.44214336,\n",
       "       31.84796227, 14.96093441, 42.00080533, 41.07764366, 32.0543883 ,\n",
       "       40.47849142, 43.55111141, 32.19366965, 41.77159671, 43.46646161,\n",
       "        6.10544117, 32.1759149 , 37.8392257 , 52.33594193])"
      ]
     },
     "execution_count": 46,
     "metadata": {},
     "output_type": "execute_result"
    }
   ],
   "source": [
    "y_pred_train1 = reg.predict(xtrain)\n",
    "y_pred_train1"
   ]
  },
  {
   "cell_type": "code",
   "execution_count": 47,
   "id": "89967610",
   "metadata": {},
   "outputs": [
    {
     "data": {
      "text/plain": [
       "33     49.3\n",
       "0      37.9\n",
       "94     41.0\n",
       "140    51.4\n",
       "274    41.0\n",
       "15     50.5\n",
       "272    40.5\n",
       "271    26.5\n",
       "84     43.7\n",
       "42     34.7\n",
       "361    63.3\n",
       "402    28.5\n",
       "222    48.5\n",
       "55     13.7\n",
       "225    49.0\n",
       "399    37.3\n",
       "291    54.4\n",
       "93     16.1\n",
       "73     20.0\n",
       "262    53.0\n",
       "Name: y, dtype: float64"
      ]
     },
     "execution_count": 47,
     "metadata": {},
     "output_type": "execute_result"
    }
   ],
   "source": [
    "ytrain.head(20)"
   ]
  },
  {
   "cell_type": "code",
   "execution_count": 48,
   "id": "65501923",
   "metadata": {},
   "outputs": [
    {
     "data": {
      "text/plain": [
       "0.6954060616467748"
      ]
     },
     "execution_count": 48,
     "metadata": {},
     "output_type": "execute_result"
    }
   ],
   "source": [
    "r2_Squard1_Train = r2_score(ytrain,y_pred_train1)\n",
    "r2_Squard1_Train"
   ]
  },
  {
   "cell_type": "code",
   "execution_count": 49,
   "id": "ff9c1358",
   "metadata": {},
   "outputs": [
    {
     "data": {
      "text/plain": [
       "array([50.80780224, 46.33742576, 49.74413828, 28.34533353, 35.78406697,\n",
       "       29.94138589, 30.32244642, 31.66371523, 50.59856121, 42.3687584 ,\n",
       "       38.16385966, 53.46135112, 47.83228937, 44.84315968, 15.10021577,\n",
       "       13.09818974, 28.4298977 , 30.25192775, 45.68465674, 36.67037906,\n",
       "       43.23947545])"
      ]
     },
     "execution_count": 49,
     "metadata": {},
     "output_type": "execute_result"
    }
   ],
   "source": [
    "y_pred_test1 = reg.predict(xtest)\n",
    "y_pred_test1"
   ]
  },
  {
   "cell_type": "code",
   "execution_count": 50,
   "id": "be8ce18e",
   "metadata": {},
   "outputs": [
    {
     "data": {
      "text/plain": [
       "374    49.5\n",
       "358    45.1\n",
       "360    47.1\n",
       "369    22.8\n",
       "175    36.5\n",
       "365    29.5\n",
       "118    30.6\n",
       "79     26.5\n",
       "124    57.4\n",
       "336    35.6\n",
       "Name: y, dtype: float64"
      ]
     },
     "execution_count": 50,
     "metadata": {},
     "output_type": "execute_result"
    }
   ],
   "source": [
    "ytest.head(10)"
   ]
  },
  {
   "cell_type": "code",
   "execution_count": 51,
   "id": "e61c60b3",
   "metadata": {},
   "outputs": [
    {
     "data": {
      "text/plain": [
       "0.6503280007286546"
      ]
     },
     "execution_count": 51,
     "metadata": {},
     "output_type": "execute_result"
    }
   ],
   "source": [
    "r2_Squard1 = r2_score(ytest,y_pred_test1)\n",
    "r2_Squard1"
   ]
  },
  {
   "cell_type": "markdown",
   "id": "25f37f3d",
   "metadata": {},
   "source": [
    "'''We can se 'part2_score = part3_score' so that their speed and prediction accuracy is same.'''"
   ]
  },
  {
   "cell_type": "markdown",
   "id": "33225540",
   "metadata": {},
   "source": [
    "# Part 4: Visualization and Analysis"
   ]
  },
  {
   "cell_type": "markdown",
   "id": "3a87c218",
   "metadata": {},
   "source": [
    "'''7. Create scatter plots to visualize the relationship between each feature (X1 to X6) and the target\n",
    "variable (Y). Discuss the patterns you observe in the plots.'''"
   ]
  },
  {
   "cell_type": "markdown",
   "id": "9afca10e",
   "metadata": {},
   "source": [
    "# With Standardizationn Plot line and Scatter"
   ]
  },
  {
   "cell_type": "code",
   "execution_count": 52,
   "id": "45126a32",
   "metadata": {},
   "outputs": [],
   "source": [
    "import seaborn as sns"
   ]
  },
  {
   "cell_type": "code",
   "execution_count": 53,
   "id": "3cf1ab44",
   "metadata": {},
   "outputs": [
    {
     "data": {
      "image/png": "[encoded data removed]",
      "text/plain": [
       "<Figure size 1000x500 with 1 Axes>"
      ]
     },
     "metadata": {},
     "output_type": "display_data"
    }
   ],
   "source": [
    "train_data = pd.concat([xtrain, ytrain], axis=1)\n",
    "\n",
    "# Create a scatter plot with regression line\n",
    "sns.lmplot(x='x2', y='y', data=train_data, aspect=2, line_kws={'color': 'red'}, ci=None)\n",
    "plt.title('Scatter Plot with Regression Line for x2 vs y')\n",
    "plt.xlabel('Feature x2')\n",
    "plt.ylabel('House Price (Y)')\n",
    "plt.show()"
   ]
  },
  {
   "cell_type": "markdown",
   "id": "1be48952",
   "metadata": {},
   "source": [
    "'''Scatter Plot for x2 vs y:\n",
    "\n",
    "In the scatter plot for x2 vs y, the x-axis represents the features and the y-axis represents the house prices y.\n",
    "The red regression line represents the linear relationship between x2 and y.\n",
    "Points are scattered around the regression line. Data points are distributed, indicating a moderate linear trend. Some data points may be above or below the line, suggesting variations in house prices for different values of x2.'''"
   ]
  },
  {
   "cell_type": "markdown",
   "id": "22e49213",
   "metadata": {},
   "source": [
    "# Without Standardizationn Plot line and Scatter"
   ]
  },
  {
   "cell_type": "code",
   "execution_count": 54,
   "id": "52d5ed06",
   "metadata": {},
   "outputs": [
    {
     "data": {
      "image/png": "[encoded data removed]",
      "text/plain": [
       "<Figure size 1000x500 with 1 Axes>"
      ]
     },
     "metadata": {},
     "output_type": "display_data"
    }
   ],
   "source": [
    "sns.lmplot(x='x3', y='y', data=train_data, aspect=2, line_kws={'color': 'red'})\n",
    "plt.title('Scatter Plot with Regression Line for x3 vs y')\n",
    "plt.xlabel('Feature x3')\n",
    "plt.ylabel('House Price (Y)')\n",
    "plt.show()"
   ]
  },
  {
   "cell_type": "markdown",
   "id": "0782780b",
   "metadata": {},
   "source": [
    "'''8. Visualize the predicted house prices from the scaled model against the actual house prices. Interpret\n",
    "the results and discuss any discrepancies.'''"
   ]
  },
  {
   "cell_type": "code",
   "execution_count": 55,
   "id": "a27b222e",
   "metadata": {},
   "outputs": [
    {
     "data": {
      "image/png": "[encoded data removed]",
      "text/plain": [
       "<Figure size 640x480 with 1 Axes>"
      ]
     },
     "metadata": {},
     "output_type": "display_data"
    }
   ],
   "source": [
    "prediction_data = pd.DataFrame({'Actual House Price': ytrain, 'Predicted House Price': y_pred_train})\n",
    "\n",
    "sns.scatterplot(data=prediction_data, x='Actual House Price', y='Predicted House Price')\n",
    "plt.title('Predicted vs Actual House Prices')\n",
    "plt.xlabel('Actual House Price')\n",
    "plt.ylabel('Predicted House Price')\n",
    "plt.show()"
   ]
  },
  {
   "cell_type": "markdown",
   "id": "d1cd1628",
   "metadata": {},
   "source": [
    "'''Interpretation:\n",
    "\n",
    "In the scatter plot, each point represents a pair of actual house price and predicted house price.\n",
    "Ideally, the points should fall along a diagonal line (45-degree line), indicating that the predicted prices match the actual prices.\n",
    "Points above the diagonal line suggest that the model has overestimated the house prices.\n",
    "Points below the diagonal line suggest that the model has underestimated the house prices.\n",
    "The spread of points around the diagonal line indicates the level of accuracy of the model's predictions.'''"
   ]
  },
  {
   "cell_type": "markdown",
   "id": "57b7cce5",
   "metadata": {},
   "source": [
    "# Part 5: Advanced Problem (Optional)"
   ]
  },
  {
   "cell_type": "markdown",
   "id": "f79f58e3",
   "metadata": {},
   "source": [
    "'''9. Implement Min-Max scaling for the feature columns (X1 to X6) manually (without using libraries).\n",
    "Train a linear regression model using the Min-Max scaled features and compare its performance with the\n",
    "Z-score scaled and unscaled models.'''"
   ]
  },
  {
   "cell_type": "code",
   "execution_count": 56,
   "id": "073cd001",
   "metadata": {},
   "outputs": [
    {
     "data": {
      "text/html": [
       "<div>\n",
       "<style scoped>\n",
       "    .dataframe tbody tr th:only-of-type {\n",
       "        vertical-align: middle;\n",
       "    }\n",
       "\n",
       "    .dataframe tbody tr th {\n",
       "        vertical-align: top;\n",
       "    }\n",
       "\n",
       "    .dataframe thead th {\n",
       "        text-align: right;\n",
       "    }\n",
       "</style>\n",
       "<table border=\"1\" class=\"dataframe\">\n",
       "  <thead>\n",
       "    <tr style=\"text-align: right;\">\n",
       "      <th></th>\n",
       "      <th>x1</th>\n",
       "      <th>x2</th>\n",
       "      <th>x3</th>\n",
       "      <th>x4</th>\n",
       "      <th>x5</th>\n",
       "      <th>x6</th>\n",
       "    </tr>\n",
       "  </thead>\n",
       "  <tbody>\n",
       "    <tr>\n",
       "      <th>358</th>\n",
       "      <td>0.545455</td>\n",
       "      <td>0.026570</td>\n",
       "      <td>0.026328</td>\n",
       "      <td>0.6</td>\n",
       "      <td>0.593985</td>\n",
       "      <td>0.763632</td>\n",
       "    </tr>\n",
       "    <tr>\n",
       "      <th>350</th>\n",
       "      <td>0.363636</td>\n",
       "      <td>0.318841</td>\n",
       "      <td>0.072525</td>\n",
       "      <td>0.5</td>\n",
       "      <td>0.581601</td>\n",
       "      <td>0.723727</td>\n",
       "    </tr>\n",
       "    <tr>\n",
       "      <th>373</th>\n",
       "      <td>0.454545</td>\n",
       "      <td>0.000000</td>\n",
       "      <td>0.038770</td>\n",
       "      <td>0.1</td>\n",
       "      <td>0.795002</td>\n",
       "      <td>0.646865</td>\n",
       "    </tr>\n",
       "    <tr>\n",
       "      <th>399</th>\n",
       "      <td>0.272727</td>\n",
       "      <td>0.306763</td>\n",
       "      <td>0.022700</td>\n",
       "      <td>0.1</td>\n",
       "      <td>0.770898</td>\n",
       "      <td>0.638363</td>\n",
       "    </tr>\n",
       "    <tr>\n",
       "      <th>369</th>\n",
       "      <td>0.000000</td>\n",
       "      <td>0.487923</td>\n",
       "      <td>0.334395</td>\n",
       "      <td>0.3</td>\n",
       "      <td>0.538921</td>\n",
       "      <td>0.440313</td>\n",
       "    </tr>\n",
       "  </tbody>\n",
       "</table>\n",
       "</div>"
      ],
      "text/plain": [
       "           x1        x2        x3   x4        x5        x6\n",
       "358  0.545455  0.026570  0.026328  0.6  0.593985  0.763632\n",
       "350  0.363636  0.318841  0.072525  0.5  0.581601  0.723727\n",
       "373  0.454545  0.000000  0.038770  0.1  0.795002  0.646865\n",
       "399  0.272727  0.306763  0.022700  0.1  0.770898  0.638363\n",
       "369  0.000000  0.487923  0.334395  0.3  0.538921  0.440313"
      ]
     },
     "execution_count": 56,
     "metadata": {},
     "output_type": "execute_result"
    }
   ],
   "source": [
    "def normalization_table(data):\n",
    "    scaled_data = []\n",
    "    \n",
    "    for col in data.columns:\n",
    "        col_min = data[col].min()\n",
    "        col_max = data[col].max()\n",
    "        scaled_col = (data[col] - col_min) /( col_max - col_min)\n",
    "        scaled_data.append(scaled_col)\n",
    "    scaled_df = pd.concat(scaled_data, axis=1)\n",
    "    return scaled_df\n",
    "\n",
    "normalization = normalization_table(x)\n",
    "normalization.head()\n",
    "        \n",
    "    "
   ]
  },
  {
   "cell_type": "code",
   "execution_count": 57,
   "id": "99e18d65",
   "metadata": {},
   "outputs": [],
   "source": [
    "xtrain, xtest, ytrain, ytest = train_test_split(x, y, test_size=0.3, random_state=42)"
   ]
  },
  {
   "cell_type": "code",
   "execution_count": 58,
   "id": "e2cb48e3",
   "metadata": {
    "scrolled": true
   },
   "outputs": [
    {
     "data": {
      "text/html": [
       "<div>\n",
       "<style scoped>\n",
       "    .dataframe tbody tr th:only-of-type {\n",
       "        vertical-align: middle;\n",
       "    }\n",
       "\n",
       "    .dataframe tbody tr th {\n",
       "        vertical-align: top;\n",
       "    }\n",
       "\n",
       "    .dataframe thead th {\n",
       "        text-align: right;\n",
       "    }\n",
       "</style>\n",
       "<table border=\"1\" class=\"dataframe\">\n",
       "  <thead>\n",
       "    <tr style=\"text-align: right;\">\n",
       "      <th></th>\n",
       "      <th>x1</th>\n",
       "      <th>x2</th>\n",
       "      <th>x3</th>\n",
       "      <th>x4</th>\n",
       "      <th>x5</th>\n",
       "      <th>x6</th>\n",
       "    </tr>\n",
       "  </thead>\n",
       "  <tbody>\n",
       "    <tr>\n",
       "      <th>33</th>\n",
       "      <td>0.580908</td>\n",
       "      <td>-0.238849</td>\n",
       "      <td>-0.636207</td>\n",
       "      <td>0.705647</td>\n",
       "      <td>0.925512</td>\n",
       "      <td>0.701766</td>\n",
       "    </tr>\n",
       "    <tr>\n",
       "      <th>0</th>\n",
       "      <td>-0.651322</td>\n",
       "      <td>1.088089</td>\n",
       "      <td>-0.793729</td>\n",
       "      <td>2.031694</td>\n",
       "      <td>1.298881</td>\n",
       "      <td>0.556852</td>\n",
       "    </tr>\n",
       "    <tr>\n",
       "      <th>94</th>\n",
       "      <td>-0.651322</td>\n",
       "      <td>1.850008</td>\n",
       "      <td>-0.739158</td>\n",
       "      <td>0.374135</td>\n",
       "      <td>-0.063878</td>\n",
       "      <td>0.557980</td>\n",
       "    </tr>\n",
       "    <tr>\n",
       "      <th>140</th>\n",
       "      <td>0.580908</td>\n",
       "      <td>-0.264532</td>\n",
       "      <td>-0.658854</td>\n",
       "      <td>0.374135</td>\n",
       "      <td>1.221266</td>\n",
       "      <td>0.739545</td>\n",
       "    </tr>\n",
       "    <tr>\n",
       "      <th>274</th>\n",
       "      <td>0.272851</td>\n",
       "      <td>0.702849</td>\n",
       "      <td>-0.589788</td>\n",
       "      <td>1.037159</td>\n",
       "      <td>0.487598</td>\n",
       "      <td>0.539936</td>\n",
       "    </tr>\n",
       "  </tbody>\n",
       "</table>\n",
       "</div>"
      ],
      "text/plain": [
       "           x1        x2        x3        x4        x5        x6\n",
       "33   0.580908 -0.238849 -0.636207  0.705647  0.925512  0.701766\n",
       "0   -0.651322  1.088089 -0.793729  2.031694  1.298881  0.556852\n",
       "94  -0.651322  1.850008 -0.739158  0.374135 -0.063878  0.557980\n",
       "140  0.580908 -0.264532 -0.658854  0.374135  1.221266  0.739545\n",
       "274  0.272851  0.702849 -0.589788  1.037159  0.487598  0.539936"
      ]
     },
     "execution_count": 58,
     "metadata": {},
     "output_type": "execute_result"
    }
   ],
   "source": [
    "xtrain.head()"
   ]
  },
  {
   "cell_type": "code",
   "execution_count": 59,
   "id": "10f0d53d",
   "metadata": {},
   "outputs": [
    {
     "data": {
      "text/plain": [
       "(49, 6)"
      ]
     },
     "execution_count": 59,
     "metadata": {},
     "output_type": "execute_result"
    }
   ],
   "source": [
    "xtrain.shape"
   ]
  },
  {
   "cell_type": "code",
   "execution_count": 60,
   "id": "e3564d4a",
   "metadata": {},
   "outputs": [
    {
     "data": {
      "text/plain": [
       "(21, 6)"
      ]
     },
     "execution_count": 60,
     "metadata": {},
     "output_type": "execute_result"
    }
   ],
   "source": [
    "xtest.shape"
   ]
  },
  {
   "cell_type": "code",
   "execution_count": 61,
   "id": "ddc7475d",
   "metadata": {},
   "outputs": [
    {
     "data": {
      "text/html": [
       "<style>#sk-container-id-3 {color: black;}#sk-container-id-3 pre{padding: 0;}#sk-container-id-3 div.sk-toggleable {background-color: white;}#sk-container-id-3 label.sk-toggleable__label {cursor: pointer;display: block;width: 100%;margin-bottom: 0;padding: 0.3em;box-sizing: border-box;text-align: center;}#sk-container-id-3 label.sk-toggleable__label-arrow:before {content: \"▸\";float: left;margin-right: 0.25em;color: #696969;}#sk-container-id-3 label.sk-toggleable__label-arrow:hover:before {color: black;}#sk-container-id-3 div.sk-estimator:hover label.sk-toggleable__label-arrow:before {color: black;}#sk-container-id-3 div.sk-toggleable__content {max-height: 0;max-width: 0;overflow: hidden;text-align: left;background-color: #f0f8ff;}#sk-container-id-3 div.sk-toggleable__content pre {margin: 0.2em;color: black;border-radius: 0.25em;background-color: #f0f8ff;}#sk-container-id-3 input.sk-toggleable__control:checked~div.sk-toggleable__content {max-height: 200px;max-width: 100%;overflow: auto;}#sk-container-id-3 input.sk-toggleable__control:checked~label.sk-toggleable__label-arrow:before {content: \"▾\";}#sk-container-id-3 div.sk-estimator input.sk-toggleable__control:checked~label.sk-toggleable__label {background-color: #d4ebff;}#sk-container-id-3 div.sk-label input.sk-toggleable__control:checked~label.sk-toggleable__label {background-color: #d4ebff;}#sk-container-id-3 input.sk-hidden--visually {border: 0;clip: rect(1px 1px 1px 1px);clip: rect(1px, 1px, 1px, 1px);height: 1px;margin: -1px;overflow: hidden;padding: 0;position: absolute;width: 1px;}#sk-container-id-3 div.sk-estimator {font-family: monospace;background-color: #f0f8ff;border: 1px dotted black;border-radius: 0.25em;box-sizing: border-box;margin-bottom: 0.5em;}#sk-container-id-3 div.sk-estimator:hover {background-color: #d4ebff;}#sk-container-id-3 div.sk-parallel-item::after {content: \"\";width: 100%;border-bottom: 1px solid gray;flex-grow: 1;}#sk-container-id-3 div.sk-label:hover label.sk-toggleable__label {background-color: #d4ebff;}#sk-container-id-3 div.sk-serial::before {content: \"\";position: absolute;border-left: 1px solid gray;box-sizing: border-box;top: 0;bottom: 0;left: 50%;z-index: 0;}#sk-container-id-3 div.sk-serial {display: flex;flex-direction: column;align-items: center;background-color: white;padding-right: 0.2em;padding-left: 0.2em;position: relative;}#sk-container-id-3 div.sk-item {position: relative;z-index: 1;}#sk-container-id-3 div.sk-parallel {display: flex;align-items: stretch;justify-content: center;background-color: white;position: relative;}#sk-container-id-3 div.sk-item::before, #sk-container-id-3 div.sk-parallel-item::before {content: \"\";position: absolute;border-left: 1px solid gray;box-sizing: border-box;top: 0;bottom: 0;left: 50%;z-index: -1;}#sk-container-id-3 div.sk-parallel-item {display: flex;flex-direction: column;z-index: 1;position: relative;background-color: white;}#sk-container-id-3 div.sk-parallel-item:first-child::after {align-self: flex-end;width: 50%;}#sk-container-id-3 div.sk-parallel-item:last-child::after {align-self: flex-start;width: 50%;}#sk-container-id-3 div.sk-parallel-item:only-child::after {width: 0;}#sk-container-id-3 div.sk-dashed-wrapped {border: 1px dashed gray;margin: 0 0.4em 0.5em 0.4em;box-sizing: border-box;padding-bottom: 0.4em;background-color: white;}#sk-container-id-3 div.sk-label label {font-family: monospace;font-weight: bold;display: inline-block;line-height: 1.2em;}#sk-container-id-3 div.sk-label-container {text-align: center;}#sk-container-id-3 div.sk-container {/* jupyter's `normalize.less` sets `[hidden] { display: none; }` but bootstrap.min.css set `[hidden] { display: none !important; }` so we also need the `!important` here to be able to override the default hidden behavior on the sphinx rendered scikit-learn.org. See: https://github.com/scikit-learn/scikit-learn/issues/21755 */display: inline-block !important;position: relative;}#sk-container-id-3 div.sk-text-repr-fallback {display: none;}</style><div id=\"sk-container-id-3\" class=\"sk-top-container\"><div class=\"sk-text-repr-fallback\"><pre>LinearRegression()</pre><b>In a Jupyter environment, please rerun this cell to show the HTML representation or trust the notebook. <br />On GitHub, the HTML representation is unable to render, please try loading this page with nbviewer.org.</b></div><div class=\"sk-container\" hidden><div class=\"sk-item\"><div class=\"sk-estimator sk-toggleable\"><input class=\"sk-toggleable__control sk-hidden--visually\" id=\"sk-estimator-id-3\" type=\"checkbox\" checked><label for=\"sk-estimator-id-3\" class=\"sk-toggleable__label sk-toggleable__label-arrow\">LinearRegression</label><div class=\"sk-toggleable__content\"><pre>LinearRegression()</pre></div></div></div></div></div>"
      ],
      "text/plain": [
       "LinearRegression()"
      ]
     },
     "execution_count": 61,
     "metadata": {},
     "output_type": "execute_result"
    }
   ],
   "source": [
    "reg.fit(xtrain, ytrain)"
   ]
  },
  {
   "cell_type": "code",
   "execution_count": 62,
   "id": "219c7653",
   "metadata": {},
   "outputs": [
    {
     "data": {
      "text/plain": [
       "array([ 0.27046894, -3.1957652 ,  0.43076552,  3.67244554,  5.63202675,\n",
       "        4.99611877])"
      ]
     },
     "execution_count": 62,
     "metadata": {},
     "output_type": "execute_result"
    }
   ],
   "source": [
    "reg.coef_"
   ]
  },
  {
   "cell_type": "code",
   "execution_count": 63,
   "id": "7c24a8f6",
   "metadata": {},
   "outputs": [
    {
     "data": {
      "text/plain": [
       "36.672700513779745"
      ]
     },
     "execution_count": 63,
     "metadata": {},
     "output_type": "execute_result"
    }
   ],
   "source": [
    "reg.intercept_"
   ]
  },
  {
   "cell_type": "code",
   "execution_count": 64,
   "id": "732561cf",
   "metadata": {},
   "outputs": [
    {
     "data": {
      "text/plain": [
       "array([48.62912729, 50.23606843, 34.06790194, 49.33843554, 43.49895612,\n",
       "       41.7004894 , 40.28324868, 46.90478466, 45.50632685, 33.73058233,\n",
       "       41.26114483, 37.37944014, 49.78718015, 20.1839443 , 46.42074574,\n",
       "       37.38805668, 41.68317161, 20.1763655 , 15.10021577, 49.08723142,\n",
       "       52.98630148, 15.09932202, 33.5974253 , 33.90063975, 30.98533788,\n",
       "       41.52163679, 41.62874854, 14.40875958, 47.85866278, 13.56172967,\n",
       "       49.25511556, 12.39847444, 33.62647178, 36.90622522, 32.44214336,\n",
       "       31.84796227, 14.96093441, 42.00080533, 41.07764366, 32.0543883 ,\n",
       "       40.47849142, 43.55111141, 32.19366965, 41.77159671, 43.46646161,\n",
       "        6.10544117, 32.1759149 , 37.8392257 , 52.33594193])"
      ]
     },
     "execution_count": 64,
     "metadata": {},
     "output_type": "execute_result"
    }
   ],
   "source": [
    "y_pret_train2 = reg.predict(xtrain)\n",
    "y_pret_train2"
   ]
  },
  {
   "cell_type": "code",
   "execution_count": 65,
   "id": "8f39d5ed",
   "metadata": {},
   "outputs": [
    {
     "data": {
      "text/plain": [
       "33     49.3\n",
       "0      37.9\n",
       "94     41.0\n",
       "140    51.4\n",
       "274    41.0\n",
       "15     50.5\n",
       "272    40.5\n",
       "271    26.5\n",
       "84     43.7\n",
       "42     34.7\n",
       "Name: y, dtype: float64"
      ]
     },
     "execution_count": 65,
     "metadata": {},
     "output_type": "execute_result"
    }
   ],
   "source": [
    "ytrain.head(10)"
   ]
  },
  {
   "cell_type": "code",
   "execution_count": 66,
   "id": "abbe5d83",
   "metadata": {},
   "outputs": [
    {
     "data": {
      "text/plain": [
       "0.6954060616468085"
      ]
     },
     "execution_count": 66,
     "metadata": {},
     "output_type": "execute_result"
    }
   ],
   "source": [
    "r2_Squard2 = r2_score(ytrain, y_pret_train2)\n",
    "r2_Squard2 "
   ]
  },
  {
   "cell_type": "markdown",
   "id": "841eb3e1",
   "metadata": {},
   "source": [
    "# Min-Max to Z-Score"
   ]
  },
  {
   "cell_type": "code",
   "execution_count": 67,
   "id": "22dab63e",
   "metadata": {},
   "outputs": [
    {
     "data": {
      "text/plain": [
       "0.6954060616468085"
      ]
     },
     "execution_count": 67,
     "metadata": {},
     "output_type": "execute_result"
    }
   ],
   "source": [
    "r2_Squard_Train"
   ]
  },
  {
   "cell_type": "code",
   "execution_count": 68,
   "id": "a317c96a",
   "metadata": {},
   "outputs": [
    {
     "data": {
      "text/plain": [
       "0.0"
      ]
     },
     "execution_count": 68,
     "metadata": {},
     "output_type": "execute_result"
    }
   ],
   "source": [
    "min_max_to_z_score = r2_Squard_Train - r2_Squard2\n",
    "min_max_to_z_score"
   ]
  },
  {
   "cell_type": "raw",
   "id": "003b6e51",
   "metadata": {},
   "source": [
    "For Z-score and Normalization both of them performance is same for our data set"
   ]
  },
  {
   "cell_type": "markdown",
   "id": "17d853eb",
   "metadata": {},
   "source": [
    "# Min-Max to Unsclade"
   ]
  },
  {
   "cell_type": "code",
   "execution_count": 69,
   "id": "1615122f",
   "metadata": {},
   "outputs": [
    {
     "data": {
      "text/plain": [
       "0.6954060616467748"
      ]
     },
     "execution_count": 69,
     "metadata": {},
     "output_type": "execute_result"
    }
   ],
   "source": [
    "r2_Squard1_Train "
   ]
  },
  {
   "cell_type": "code",
   "execution_count": 70,
   "id": "0e0fecd1",
   "metadata": {},
   "outputs": [
    {
     "data": {
      "text/plain": [
       "-3.375077994860476e-14"
      ]
     },
     "execution_count": 70,
     "metadata": {},
     "output_type": "execute_result"
    }
   ],
   "source": [
    "min_max_to_unsclade = r2_Squard1_Train - r2_Squard2\n",
    "min_max_to_unsclade"
   ]
  },
  {
   "cell_type": "code",
   "execution_count": 71,
   "id": "19718612",
   "metadata": {},
   "outputs": [
    {
     "ename": "SyntaxError",
     "evalue": "invalid syntax (88110329.py, line 1)",
     "output_type": "error",
     "traceback": [
      "\u001b[1;36m  Cell \u001b[1;32mIn[71], line 1\u001b[1;36m\u001b[0m\n\u001b[1;33m    That means Normalization perform more better than unscaled\u001b[0m\n\u001b[1;37m         ^\u001b[0m\n\u001b[1;31mSyntaxError\u001b[0m\u001b[1;31m:\u001b[0m invalid syntax\n"
     ]
    }
   ],
   "source": [
    "That means Normalization perform more better than unscaled"
   ]
  }
 ],
 "metadata": {
  "kernelspec": {
   "display_name": "Python 3 (ipykernel)",
   "language": "python",
   "name": "python3"
  },
  "language_info": {
   "codemirror_mode": {
    "name": "ipython",
    "version": 3
   },
   "file_extension": ".py",
   "mimetype": "text/x-python",
   "name": "python",
   "nbconvert_exporter": "python",
   "pygments_lexer": "ipython3",
   "version": "3.11.1"
  }
 },
 "nbformat": 4,
 "nbformat_minor": 5
}
