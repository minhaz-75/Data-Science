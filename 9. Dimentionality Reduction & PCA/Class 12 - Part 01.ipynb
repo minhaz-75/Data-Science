{
 "cells": [
  {
   "cell_type": "code",
   "execution_count": null,
   "id": "05cae5fc",
   "metadata": {},
   "outputs": [],
   "source": [
    "import pandas as pd\n",
    "from sklearn.datasets import make_classification"
   ]
  },
  {
   "cell_type": "code",
   "execution_count": null,
   "id": "1ba8d0da",
   "metadata": {},
   "outputs": [],
   "source": [
    "x,y = make_classification(n_samples=60000, n_features=30)"
   ]
  },
  {
   "cell_type": "code",
   "execution_count": null,
   "id": "74b34c4f",
   "metadata": {},
   "outputs": [],
   "source": [
    "x.shape"
   ]
  },
  {
   "cell_type": "code",
   "execution_count": null,
   "id": "ec5e2d15",
   "metadata": {},
   "outputs": [],
   "source": [
    "x = pd.DataFrame(x)\n",
    "y = pd.DataFrame(y)"
   ]
  },
  {
   "cell_type": "code",
   "execution_count": null,
   "id": "d74e395c",
   "metadata": {},
   "outputs": [],
   "source": [
    "y.head()"
   ]
  },
  {
   "cell_type": "code",
   "execution_count": null,
   "id": "9e752034",
   "metadata": {},
   "outputs": [],
   "source": [
    "x.head()"
   ]
  },
  {
   "cell_type": "code",
   "execution_count": null,
   "id": "0772565f",
   "metadata": {},
   "outputs": [],
   "source": [
    "y.value_counts()"
   ]
  },
  {
   "cell_type": "code",
   "execution_count": null,
   "id": "baacd4c9",
   "metadata": {},
   "outputs": [],
   "source": [
    "from sklearn.model_selection import train_test_split"
   ]
  },
  {
   "cell_type": "code",
   "execution_count": null,
   "id": "9181d2fb",
   "metadata": {},
   "outputs": [],
   "source": [
    "xtrain,xtest, ytrain, ytest = train_test_split(x,y,test_size=.25)"
   ]
  },
  {
   "cell_type": "code",
   "execution_count": null,
   "id": "f67fc0b0",
   "metadata": {},
   "outputs": [],
   "source": [
    "from sklearn.tree import DecisionTreeClassifier"
   ]
  },
  {
   "cell_type": "code",
   "execution_count": null,
   "id": "541d2f4d",
   "metadata": {},
   "outputs": [],
   "source": [
    "train_score = []\n",
    "test_score = []"
   ]
  },
  {
   "cell_type": "code",
   "execution_count": null,
   "id": "ab81f031",
   "metadata": {},
   "outputs": [],
   "source": [
    "max_dep = [n for n in range(1,30)]\n",
    "\n",
    "for depth in max_dep:\n",
    "    clf = DecisionTreeClassifier(max_depth=depth)\n",
    "    clf.fit(xtrain, ytrain)\n",
    "    \n",
    "    #train scores\n",
    "    train_acc = clf.score(xtrain, ytrain)\n",
    "    train_score.append(train_acc)\n",
    "    \n",
    "    #testing scores\n",
    "    test_acc = clf.score(xtest, ytest)\n",
    "    test_score.append(test_acc)\n",
    "    \n",
    "    print('When Depth = %d, Training Score = %f, Testing Scores = %f' %(depth, train_acc, test_acc))"
   ]
  },
  {
   "cell_type": "code",
   "execution_count": null,
   "id": "7c15e8f9",
   "metadata": {},
   "outputs": [],
   "source": [
    "from matplotlib import pyplot as plt"
   ]
  },
  {
   "cell_type": "code",
   "execution_count": null,
   "id": "dc84283e",
   "metadata": {},
   "outputs": [],
   "source": [
    "plt.plot(max_dep , train_score, '-o', color='green',label='training')\n",
    "plt.plot(max_dep , test_score,'-o', color='blue',label='testing')"
   ]
  },
  {
   "cell_type": "code",
   "execution_count": null,
   "id": "2668bb8f",
   "metadata": {},
   "outputs": [],
   "source": [
    "dt = DecisionTreeClassifier(max_depth=10)"
   ]
  },
  {
   "cell_type": "code",
   "execution_count": null,
   "id": "5ae2f906",
   "metadata": {},
   "outputs": [],
   "source": [
    "dt.fit(xtrain, ytrain)"
   ]
  },
  {
   "cell_type": "code",
   "execution_count": null,
   "id": "7775ac63",
   "metadata": {},
   "outputs": [],
   "source": [
    "dt.score(xtest, ytest)"
   ]
  },
  {
   "cell_type": "code",
   "execution_count": null,
   "id": "58179b9f",
   "metadata": {},
   "outputs": [],
   "source": [
    "dt.score(xtest, ytest)\n"
   ]
  },
  {
   "cell_type": "code",
   "execution_count": null,
   "id": "c4d90dca",
   "metadata": {},
   "outputs": [],
   "source": [
    "dt.score(xtrain, ytrain)"
   ]
  },
  {
   "cell_type": "code",
   "execution_count": null,
   "id": "8fb576b9",
   "metadata": {},
   "outputs": [],
   "source": []
  }
 ],
 "metadata": {
  "kernelspec": {
   "display_name": "Python 3 (ipykernel)",
   "language": "python",
   "name": "python3"
  },
  "language_info": {
   "codemirror_mode": {
    "name": "ipython",
    "version": 3
   },
   "file_extension": ".py",
   "mimetype": "text/x-python",
   "name": "python",
   "nbconvert_exporter": "python",
   "pygments_lexer": "ipython3",
   "version": "3.9.13"
  }
 },
 "nbformat": 4,
 "nbformat_minor": 5
}
