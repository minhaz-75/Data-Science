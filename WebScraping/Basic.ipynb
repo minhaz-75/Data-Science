{
 "cells": [
  {
   "cell_type": "code",
   "execution_count": 1,
   "id": "b24ba887",
   "metadata": {},
   "outputs": [],
   "source": [
    "from bs4 import BeautifulSoup"
   ]
  },
  {
   "cell_type": "markdown",
   "id": "47c98012",
   "metadata": {},
   "source": [
    "# Tags Scapping"
   ]
  },
  {
   "cell_type": "code",
   "execution_count": 9,
   "id": "820fdb79",
   "metadata": {},
   "outputs": [
    {
     "name": "stdout",
     "output_type": "stream",
     "text": [
      "Python for beginners\n",
      "Python Web Development\n",
      "Python Machine Learning\n"
     ]
    }
   ],
   "source": [
    "with open('home.html','r') as html_file:\n",
    "    content = html_file.read()\n",
    "    \n",
    "    soup = BeautifulSoup(content, 'lxml')\n",
    "    courses_html_tags = soup.find_all('h5')\n",
    "    for course in courses_html_tags:\n",
    "        print(course.text)\n",
    "        "
   ]
  },
  {
   "cell_type": "markdown",
   "id": "2b29065f",
   "metadata": {},
   "source": [
    "# Card Scapping"
   ]
  },
  {
   "cell_type": "code",
   "execution_count": 13,
   "id": "98451cc6",
   "metadata": {},
   "outputs": [
    {
     "name": "stdout",
     "output_type": "stream",
     "text": [
      "Python for beginners\n",
      "Start for 20$\n",
      "Python Web Development\n",
      "Start for 50$\n",
      "Python Machine Learning\n",
      "Start for 100$\n"
     ]
    }
   ],
   "source": [
    "with open('home.html','r') as html_file:\n",
    "    content = html_file.read()\n",
    "    \n",
    "    soup = BeautifulSoup(content, 'lxml')\n",
    "    course_cards = soup.find_all('div', class_='card')\n",
    "    for course in course_cards:\n",
    "        course_name = course.h5.text\n",
    "        course_price = course.a.text\n",
    "        \n",
    "        print(course_name)\n",
    "        print(course_price)"
   ]
  },
  {
   "cell_type": "raw",
   "id": "06421782",
   "metadata": {},
   "source": [
    "for more nicer way: "
   ]
  },
  {
   "cell_type": "code",
   "execution_count": 15,
   "id": "f5096ce0",
   "metadata": {},
   "outputs": [
    {
     "name": "stdout",
     "output_type": "stream",
     "text": [
      "Python for beginners costs 20$\n",
      "Python Web Development costs 50$\n",
      "Python Machine Learning costs 100$\n"
     ]
    }
   ],
   "source": [
    "with open('home.html','r') as html_file:\n",
    "    content = html_file.read()\n",
    "    \n",
    "    soup = BeautifulSoup(content, 'lxml')\n",
    "    course_cards = soup.find_all('div', class_='card')\n",
    "    for course in course_cards:\n",
    "        course_name = course.h5.text\n",
    "        course_price = course.a.text.split()[-1]\n",
    "        \n",
    "        print(f'{course_name} costs {course_price}')\n",
    "      "
   ]
  },
  {
   "cell_type": "code",
   "execution_count": null,
   "id": "dffdf993",
   "metadata": {},
   "outputs": [],
   "source": []
  }
 ],
 "metadata": {
  "kernelspec": {
   "display_name": "Python 3 (ipykernel)",
   "language": "python",
   "name": "python3"
  },
  "language_info": {
   "codemirror_mode": {
    "name": "ipython",
    "version": 3
   },
   "file_extension": ".py",
   "mimetype": "text/x-python",
   "name": "python",
   "nbconvert_exporter": "python",
   "pygments_lexer": "ipython3",
   "version": "3.11.4"
  }
 },
 "nbformat": 4,
 "nbformat_minor": 5
}
