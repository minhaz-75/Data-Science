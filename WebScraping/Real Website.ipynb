{
 "cells": [
  {
   "cell_type": "markdown",
   "id": "640cb8e0",
   "metadata": {},
   "source": [
    "Learn From: https://www.youtube.com/watch?v=XVv6mJpFOb0"
   ]
  },
  {
   "cell_type": "code",
   "execution_count": null,
   "id": "f4e18432",
   "metadata": {},
   "outputs": [],
   "source": [
    "from bs4 import BeautifulSoup\n",
    "import requests\n",
    "import time\n",
    "import os"
   ]
  },
  {
   "cell_type": "code",
   "execution_count": 2,
   "id": "93dbc0cd",
   "metadata": {},
   "outputs": [
    {
     "name": "stdout",
     "output_type": "stream",
     "text": [
      "<Response [200]>\n"
     ]
    }
   ],
   "source": [
    "html_text = requests.get('https://www.timesjobs.com/candidate/job-search.html?searchType=personalizedSearch&from=submit&searchTextSrc=as&searchTextText=%22Data+Science%22&txtKeywords=%22Data+Science%22&txtLocation=')\n",
    "\n",
    "print(html_text) #200 means request is accepted"
   ]
  },
  {
   "cell_type": "code",
   "execution_count": 3,
   "id": "e96d099d",
   "metadata": {},
   "outputs": [
    {
     "name": "stdout",
     "output_type": "stream",
     "text": [
      "Put some skill that youre not familiar with\n",
      ">django\n",
      "Filtering out django\n"
     ]
    }
   ],
   "source": [
    "print('Put some skill that youre not familiar with')\n",
    "\n",
    "unfamiliar_skill = input('>')\n",
    "\n",
    "print(f'Filtering out {unfamiliar_skill}')\n"
   ]
  },
  {
   "cell_type": "code",
   "execution_count": null,
   "id": "f9cbd79d",
   "metadata": {},
   "outputs": [
    {
     "name": "stdout",
     "output_type": "stream",
     "text": [
      "File Saved: 1\n",
      "File Saved: 2\n",
      "File Saved: 3\n",
      "File Saved: 4\n",
      "File Saved: 5\n",
      "File Saved: 6\n",
      "File Saved: 7\n",
      "File Saved: 9\n",
      "File Saved: 12\n",
      "File Saved: 13\n",
      "File Saved: 15\n",
      "File Saved: 16\n",
      "File Saved: 17\n",
      "File Saved: 18\n",
      "File Saved: 19\n",
      "Waiting 10 minutes...\n"
     ]
    }
   ],
   "source": [
    "\n",
    "def find_jobs():\n",
    "    html_text = requests.get('https://www.timesjobs.com/candidate/job-search.html?searchType=personalizedSearch&from=submit&searchTextSrc=as&searchTextText=%22Data+Science%22&txtKeywords=%22Data+Science%22&txtLocation=').text\n",
    "    soup = BeautifulSoup(html_text, 'lxml')\n",
    "    jobs = soup.find_all('li', class_='clearfix job-bx wht-shd-bx')\n",
    "\n",
    "    for index, job in enumerate(jobs):\n",
    "        published_date = job.find('span', class_='sim-posted').span.text.strip()\n",
    "        if 'few' in published_date:  # we want to see few days age published job post\n",
    "            company_name = job.find('h3', class_='joblist-comp-name').text[:-13].strip()\n",
    "            skills = job.find('span', class_='srp-skills').text.strip()\n",
    "            more_info = job.header.h2.a['href']\n",
    "            if unfamiliar_skill not in skills:\n",
    "                directory = 'posts'\n",
    "                if not os.path.exists(directory):\n",
    "                    os.makedirs(directory)\n",
    "                with open(f'{directory}/{index}.text', 'w') as f:\n",
    "                    f.write(f'Company Name: {company_name.strip()}\\n')\n",
    "                    f.write(f'Required Skills: {skills.strip()}\\n')\n",
    "                    f.write(f'More Info: {more_info}\\n')\n",
    "                print(f'File Saved: {index}')\n",
    "\n",
    "# information will be updated after specific times\n",
    "\n",
    "if __name__ == '__main__':\n",
    "    while True:\n",
    "        find_jobs()\n",
    "        time_wait = 10\n",
    "        print(f'Waiting {time_wait} minutes...')\n",
    "        time.sleep(time_wait * 60)\n"
   ]
  },
  {
   "cell_type": "code",
   "execution_count": null,
   "id": "f61a2c8c",
   "metadata": {},
   "outputs": [],
   "source": []
  }
 ],
 "metadata": {
  "kernelspec": {
   "display_name": "Python 3 (ipykernel)",
   "language": "python",
   "name": "python3"
  },
  "language_info": {
   "codemirror_mode": {
    "name": "ipython",
    "version": 3
   },
   "file_extension": ".py",
   "mimetype": "text/x-python",
   "name": "python",
   "nbconvert_exporter": "python",
   "pygments_lexer": "ipython3",
   "version": "3.11.4"
  }
 },
 "nbformat": 4,
 "nbformat_minor": 5
}
